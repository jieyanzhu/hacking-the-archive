{
 "cells": [
  {
   "cell_type": "code",
   "execution_count": 1,
   "metadata": {},
   "outputs": [],
   "source": [
    "import pandas as pd\n",
    "import nltk\n",
    "import requests\n",
    "from sklearn.feature_extraction.text import TfidfVectorizer\n",
    "from sklearn.decomposition import PCA\n",
    "from nltk.corpus import stopwords\n",
    "from matplotlib import pyplot as plt\n",
    "from collections import Counter"
   ]
  },
  {
   "cell_type": "code",
   "execution_count": 2,
   "metadata": {},
   "outputs": [],
   "source": [
    "stopWords = stopwords.words('english')"
   ]
  },
  {
   "cell_type": "code",
   "execution_count": 3,
   "metadata": {},
   "outputs": [],
   "source": [
    "cablesDF = pd.read_csv('CFPF-JIEYAN - data.csv')"
   ]
  },
  {
   "cell_type": "code",
   "execution_count": 4,
   "metadata": {},
   "outputs": [],
   "source": [
    "cablesText = cablesDF['BODY']"
   ]
  },
  {
   "cell_type": "code",
   "execution_count": 5,
   "metadata": {},
   "outputs": [
    {
     "data": {
      "text/plain": [
       "0      mrn: 1973peking001397  segment number: 000001 ...\n",
       "1      mrn: 1973nato b006022  segment number: 000001 ...\n",
       "2      mrn: 1973nato b006060  segment number: 000001 ...\n",
       "3      mrn: 1973nato b006064  segment number: 000001 ...\n",
       "4      1.  need to get as detailed description of veh...\n",
       "                             ...                        \n",
       "624    1.  i saw king hussein january 10 on another i...\n",
       "625    1. i saw richard, grennan, and mansfield at no...\n",
       "626    2) begin text\\ndear dr. kissinger,\\nthank you ...\n",
       "627    1. i arrived cape town 1330 today and with amb...\n",
       "628    reference:  london 630\\n1.  tony duff has give...\n",
       "Name: BODY, Length: 629, dtype: object"
      ]
     },
     "execution_count": 5,
     "metadata": {},
     "output_type": "execute_result"
    }
   ],
   "source": [
    "for (i, text) in enumerate(cablesText):\n",
    "    try:\n",
    "        cablesText[i] = text.lower()\n",
    "    except:\n",
    "        cablesText[i] = 'n/a'\n",
    "cablesText"
   ]
  },
  {
   "cell_type": "code",
   "execution_count": 6,
   "metadata": {},
   "outputs": [
    {
     "name": "stdout",
     "output_type": "stream",
     "text": [
      "37\n",
      "52\n",
      "72\n",
      "94\n",
      "105\n",
      "113\n",
      "121\n",
      "123\n",
      "124\n",
      "132\n",
      "133\n",
      "141\n",
      "153\n",
      "154\n",
      "157\n",
      "160\n",
      "163\n",
      "184\n",
      "187\n",
      "199\n",
      "206\n",
      "283\n",
      "323\n",
      "350\n",
      "361\n",
      "450\n",
      "509\n",
      "533\n",
      "534\n",
      "538\n",
      "552\n",
      "577\n",
      "620\n",
      "621\n",
      "622\n"
     ]
    }
   ],
   "source": [
    "for (i, text) in enumerate(cablesText):\n",
    "    if cablesText[i] == 'n/a':\n",
    "        print(i)"
   ]
  },
  {
   "cell_type": "code",
   "execution_count": 7,
   "metadata": {},
   "outputs": [
    {
     "data": {
      "text/plain": [
       "str"
      ]
     },
     "execution_count": 7,
     "metadata": {},
     "output_type": "execute_result"
    }
   ],
   "source": [
    "type(cablesText[620])"
   ]
  },
  {
   "cell_type": "code",
   "execution_count": 8,
   "metadata": {},
   "outputs": [
    {
     "data": {
      "text/plain": [
       "629"
      ]
     },
     "execution_count": 8,
     "metadata": {},
     "output_type": "execute_result"
    }
   ],
   "source": [
    "len(cablesText)"
   ]
  },
  {
   "cell_type": "code",
   "execution_count": 9,
   "metadata": {},
   "outputs": [
    {
     "data": {
      "text/plain": [
       "'reference:  london 630\\\\n1.  tony duff has given us the new british paper as\\\\nfinally approved by ministers and pointed out changes\\\\nfrom the first draft transmitted in reftel.\\\\n2.  the title, to which the foreign office attaches\\\\ngreat importance, has been changed to read, \"suggestions\\\\nfor possible structure of transitional government:  note\\\\nby chairman of the conference.\"\\\\n3.  change para two, sentence four to read:  \"but also\\\\nfor a participation by representatives of the european\\\\nminority sufficient to ensure that their interests were\\\\ntaken into account.\"\\\\n4.  change para three, sentence two to read:  \"they\\\\nproceed on the basis that where solutions can be found\\\\nusing purely rhodesian elements, that should be done.\"\\\\n5.  change para five, sub-para one, sentence one to read:\\\\n\"the transitional government would be headed by an\\\\ninterim commissioner who would be appointed by the britis\\\\ngovernment, after due consultations.\"\\\\n6.  change last word in para five, sub-para three,\\\\nsentence one to \"minority\" vice \"community.\"\\\\n7.  change beginning of sentence two in para five, sub-\\\\npara nine to read:  \"his powers in the council of\\\\nministers in relation to these subjects would enable\\\\nhim to ensure, on the one hand,....\"\\\\n8.  change para five, sub-para eleven, last sentence to\\\\nread:  \"the council of ministers would have collective\\\\nresponsibility for governing rhodesia.\"\\\\n9.  change para five, sub-para twelve, last sentence to\\\\nread:  \"the interim commissioner would preside over\\\\nmeetings of the national security council and would be in\\\\na position to exercise a casting vote.\"\\\\n10.  change para five, sub-para thirteen, sentence three\\\\nto read:  \"the national security council, with the\\\\nconcurrence of the interim commissioner, would have the\\\\npower to appoint and remove the holders of certain senior\\\\noffices in the armed forces and the police.\"\\\\narmstrong\\\\n'"
      ]
     },
     "execution_count": 9,
     "metadata": {},
     "output_type": "execute_result"
    }
   ],
   "source": [
    "cables = [cablesText[i] for i in range(len(cablesText))]\n",
    "cables[-1]"
   ]
  },
  {
   "cell_type": "code",
   "execution_count": 10,
   "metadata": {},
   "outputs": [
    {
     "name": "stdout",
     "output_type": "stream",
     "text": [
      "Request returned 200 : 'OK'\n",
      "1018\n",
      "{'authored': '1977-01-04T00:00:00+00:00',\n",
      " 'body': ' The President’s Daily Brief January 4, 1977 “Fp Sore Exempt from '\n",
      "         'general declassificatan schedule of EO. 11652 exemption category '\n",
      "         'SB()),(2443) declassified only on approval of the Director of '\n",
      "         'Central Intelligence FOR THE PRESIDENT ONLY January 4, 1977 Table of '\n",
      "         'Contents Rhodesia: Rhodesian nationalist leaders and presidents of '\n",
      "         'the front-line African countries reportedly are considering ways to '\n",
      "         'improve the military performance of the Rhodesian guer-~ rillas. '\n",
      "         '(Page i) Note: India (Page 2) FOR THE PRESIDENT ONLY Vw i Atrican '\n",
      "         'Republic’ i D Bangui ita taho x Yaounde st Es fal Gunga g —_ i& '\n",
      "         'Libreville Congo J Gabon Vretona} Zaire “Dek ag \\\\Bujuphbura~” Ly '\n",
      "         '‘undi fe Brazzaville Sar ie an ar soul Angol a Ae Lf X Namibia '\n",
      "         '{South-West Africa) Oar es Salaam Lusake7” gaat ev indhagk Walvis '\n",
      "         'Bay (s At) Gaborone, y Pretoria ee rt pinto nal BA Dn Indian fo '\n",
      "         '—gouth Ocean Atlantie (toad Stino 4 Africa Ocean LV 0 500 MILES 500 '\n",
      "         'KILOMETERS FOR THE PRESIDENT ONLY RHODESIA: Rhoaestan nattonalist '\n",
      "         'leaders and presidents of the front-ttine African eountrtes '\n",
      "         'reportedly are considering ways to improve the military performance '\n",
      "         'of the Rhodestan guerrillas. into Mozambique/ aoe The recent '\n",
      "         'Rhodesian army raids “have convinced 20X1 most of the nationalists '\n",
      "         'and their allies that the guerrillas are much weaker than had been '\n",
      "         'assumed. The latest raids, which began two months ago, apparently '\n",
      "         'have disrupted guerrilla plans for increased military activity. '\n",
      "         'Action in eastern Rhodesia by guerrillas based in Mozambique has '\n",
      "         'been generally at a low level since the raids began. The '\n",
      "         'nationalists and the frontline presidents are said to be discussing '\n",
      "         'the reintegration of the main guerrilla force, representing the '\n",
      "         'Zimbabwe African National Union based in Mozambique, with the much '\n",
      "         \"smaller force of the Zambia-based Zimbabwe African People's Union. \"\n",
      "         'These two guerrilla groups were merged briefly in Mozambique early '\n",
      "         'last year, but the joint force disbanded after the two factions '\n",
      "         'engaged in armed clashes. --continued FOR THE PRESIDENT ONLY FOR THE '\n",
      "         'PRESIDENT ONLY NOTE The Indian government arrested scores of '\n",
      "         'Communtsts December 31 as Increased Communist criticism of a means '\n",
      "         \"of quashing a Gandhi's ruling Congress Party is nattonal protest \"\n",
      "         'planned another aspect of growing tension by the Indian Communtst '\n",
      "         'between the government and the Party against Prime Indian Communist '\n",
      "         \"Party and its imMinister Gandhi's do- patience with restrictions \"\n",
      "         'imposed mestic poltetes. under the state of emergency. 2 FOR THE '\n",
      "         'PRESIDENT ONLY Top Secret ',\n",
      " 'classification': 'top secret',\n",
      " 'doc_id': '0006466939',\n",
      " 'title': \"THE PRESIDENT'S DAILY BRIEF 4 JANUARY 1977\"}\n"
     ]
    }
   ],
   "source": [
    "url = ('http://api.foiarchive.org/docs?'\n",
    "       'corpus=eq.pdb&authored=gte.1973-10-01&'\n",
    "       'select=doc_id,authored,classification,title,body')\n",
    "response = requests.get(url)  # Make a GET request to the URL\n",
    "\n",
    "# Print status code (and associated text)\n",
    "print(f\"Request returned {response.status_code} : '{response.reason}'\")\n",
    "\n",
    "# Print data returned (parsing as JSON)\n",
    "payload = response.json()  # Parse `response.text` into JSON\n",
    "print(len(payload))\n",
    "\n",
    "import pprint\n",
    "pp = pprint.PrettyPrinter(indent=1)\n",
    "pp.pprint(payload[-1])"
   ]
  },
  {
   "cell_type": "code",
   "execution_count": 11,
   "metadata": {},
   "outputs": [
    {
     "data": {
      "text/plain": [
       "list"
      ]
     },
     "execution_count": 11,
     "metadata": {},
     "output_type": "execute_result"
    }
   ],
   "source": [
    "type(payload)"
   ]
  },
  {
   "cell_type": "code",
   "execution_count": 12,
   "metadata": {},
   "outputs": [],
   "source": [
    "datesPdb = [payload[i]['authored'][:10] for i in range(len(payload))]\n",
    "datesPdb.sort()"
   ]
  },
  {
   "cell_type": "code",
   "execution_count": 13,
   "metadata": {},
   "outputs": [],
   "source": [
    "dateCountsPdb = Counter(datesPdb)\n",
    "dateCountsPdbSeries = pd.Series(dateCountsPdb)"
   ]
  },
  {
   "cell_type": "code",
   "execution_count": 14,
   "metadata": {},
   "outputs": [
    {
     "data": {
      "image/png": "[encoded data removed]",
      "text/plain": [
       "<Figure size 720x720 with 1 Axes>"
      ]
     },
     "metadata": {
      "needs_background": "light"
     },
     "output_type": "display_data"
    }
   ],
   "source": [
    "dateCountsPdbSeries.plot(style='b.',figsize=(10,10))\n",
    "plt.title('Time Series of PDB')\n",
    "plt.xlabel('Date')\n",
    "plt.ylabel('Count')\n",
    "plt.savefig('pdbTS',dpi=600)\n",
    "plt.show()"
   ]
  },
  {
   "cell_type": "code",
   "execution_count": 15,
   "metadata": {},
   "outputs": [],
   "source": [
    "pdbs = [payload[i]['body'] for i in range(len(payload))]"
   ]
  },
  {
   "cell_type": "code",
   "execution_count": 16,
   "metadata": {},
   "outputs": [
    {
     "name": "stdout",
     "output_type": "stream",
     "text": [
      "Request returned 200 : 'OK'\n",
      "4512\n"
     ]
    }
   ],
   "source": [
    "url2 = ('http://api.foiarchive.org/docs?'\n",
    "        'corpus=eq.kissinger&authored=gte.1973-10-01&authored=lt.1977-02-01&'\n",
    "        'select=doc_id,corpus,authored,title,body,countries(country_name),persons(full_name),topics(topic_name)&order=authored')\n",
    "\n",
    "response = requests.get(url2)  # Make a GET request to the URL\n",
    "\n",
    "# Print status code (and associated text)\n",
    "print(f\"Request returned {response.status_code} : '{response.reason}'\")\n",
    "\n",
    "# Print data returned (parsing as JSON)\n",
    "payload = response.json()  # Parse `response.text` into JSON\n",
    "print(len(payload))"
   ]
  },
  {
   "cell_type": "code",
   "execution_count": 17,
   "metadata": {},
   "outputs": [
    {
     "data": {
      "text/plain": [
       "list"
      ]
     },
     "execution_count": 17,
     "metadata": {},
     "output_type": "execute_result"
    }
   ],
   "source": [
    "type(payload)"
   ]
  },
  {
   "cell_type": "code",
   "execution_count": 18,
   "metadata": {},
   "outputs": [
    {
     "data": {
      "text/plain": [
       "{'doc_id': '0000C1DF',\n",
       " 'corpus': 'kissinger',\n",
       " 'authored': '1973-10-01T00:00:00+00:00',\n",
       " 'title': 'TELECON WITH SEN. LONG/HAK AT 9;37 a.m.',\n",
       " 'body': \"                                               UNCLASSIFIED\\n          TELCON\\n          Sen. Long/HAK\\n          10/I/73 - 9:37 a. m.\\n                                                                              RELEASED IN FULL\\n          K:    Hello.\\n\\n               How     are you, Mr. Secretary?\\n          K:    Hour    are you, Senator?\\n                Fine.\\n                Senator, I understand        you   are having hearings today          on   Mr. Sonnenfeldt.\\n\\n                yye   hope to wrap   it   up today.    At       least the hearings.\\n         K:     Right. Well, Senator what I wanted to tell you, on a confidential basis,\\n                is that I'm considering him, without a decision having been made also,\\n                for a position in the State Department which will also require\\n                confirmation.    And I'm znaking a decision on that within the next two oz\\n                three weeks. I felt in fairness I should tell you this so that you don' t\\n                feel he's not being open with you. It makes approval by your committee\\n                in a way/more important.     Because.              ..\\n                                                          well, you understand why.\\n\\n                Yeah, v/ell, I really feel we should have confirmed him already, frankly,\\n                but we got a couple of Senators here who have been sort of dragging their\\n                feet on the matter so what I'm concerned, I know all I want to know\\n                about it and I' ll get this thing over with as soon as I can.\\n\\n         K:    Right.   And you understand          that   if   within the next two weeks we should\\n                send signals. on you?\\n\\n               In other words if we should pin birn down for some other job it would\\n               be a job of equal significance in some other capacity.\\n\\n               It would be a job of equal significance in another department and then\\n               of course it would be very important if your committee could nevertheless\\n               give him favorable consideration so there isn't any conflict between two\\n               committees.\\n\\n               Well, that's fine. I' ll try to bring that about.              I don't see any reason why\\n               he shouldn'. t be confirmed.\\n\\n               It may not happen, Senator, you know, I'm still juggling positions at\\n               State. But if I proceed it will be on the basis for a position of equal\\n               importance.\\n         L:    Yeah. O. K. And I' ll try to reach a favorable conclusion on this end, too.\\n         K:    That would be very nice. Hope I have a chance to see you soon.\\n         L:    Thank you.     Bye.\\nUNITED STATES DEPARTMENT OF STATE\\nREvIEW AUTHORITY: ROBERT H MILLER\\nDATE/CASE ID: 13 NOV 2002 2001029?9             UNCLASSIFIED\\n\\x0c\",\n",
       " 'countries': [],\n",
       " 'persons': [{'full_name': 'Long, Russell; Long, Russell B.'}],\n",
       " 'topics': [{'topic_name': 'Domestic Limitations on Foreign Policy'},\n",
       "  {'topic_name': \"1970's Shuttle Diplomacy \"},\n",
       "  {'topic_name': None}]}"
      ]
     },
     "execution_count": 18,
     "metadata": {},
     "output_type": "execute_result"
    }
   ],
   "source": [
    "payload[0]"
   ]
  },
  {
   "cell_type": "code",
   "execution_count": 19,
   "metadata": {},
   "outputs": [],
   "source": [
    "datesKiss = [payload[i]['authored'][:10] for i in range(len(payload))]\n",
    "datesKiss.sort()"
   ]
  },
  {
   "cell_type": "code",
   "execution_count": 20,
   "metadata": {},
   "outputs": [],
   "source": [
    "dateCountsKiss = Counter(datesKiss)\n",
    "dateCountsKissSeries = pd.Series(dateCountsKiss)"
   ]
  },
  {
   "cell_type": "code",
   "execution_count": 21,
   "metadata": {},
   "outputs": [
    {
     "data": {
      "image/png": "[encoded data removed]",
      "text/plain": [
       "<Figure size 720x720 with 1 Axes>"
      ]
     },
     "metadata": {
      "needs_background": "light"
     },
     "output_type": "display_data"
    }
   ],
   "source": [
    "dateCountsKissSeries.plot(style='g.',figsize=(10,10))\n",
    "plt.title('Time Series of Kissinger Telephones')\n",
    "plt.xlabel('Date')\n",
    "plt.ylabel('Count')\n",
    "plt.savefig('kissTS',dpi=600)\n",
    "plt.show()"
   ]
  },
  {
   "cell_type": "code",
   "execution_count": 22,
   "metadata": {},
   "outputs": [],
   "source": [
    "kissinger = [payload[i]['body'] for i in range(len(payload))] "
   ]
  },
  {
   "cell_type": "code",
   "execution_count": 23,
   "metadata": {},
   "outputs": [],
   "source": [
    "allTexts = cables + pdbs + kissinger"
   ]
  },
  {
   "cell_type": "code",
   "execution_count": 24,
   "metadata": {},
   "outputs": [
    {
     "data": {
      "text/plain": [
       "(6159, 400)"
      ]
     },
     "execution_count": 24,
     "metadata": {},
     "output_type": "execute_result"
    }
   ],
   "source": [
    "tfidfVectorizer = TfidfVectorizer(max_features=400, stop_words=stopWords)\n",
    "textMatrix = tfidfVectorizer.fit_transform(allTexts)\n",
    "denseTextMatrix = textMatrix.todense()\n",
    "denseTextMatrix.shape"
   ]
  },
  {
   "cell_type": "code",
   "execution_count": 25,
   "metadata": {},
   "outputs": [
    {
     "data": {
      "text/plain": [
       "(6159, 2)"
      ]
     },
     "execution_count": 25,
     "metadata": {},
     "output_type": "execute_result"
    }
   ],
   "source": [
    "pca = PCA(n_components=2)\n",
    "textPoints = pca.fit_transform(denseTextMatrix)\n",
    "textPoints.shape"
   ]
  },
  {
   "cell_type": "code",
   "execution_count": 26,
   "metadata": {},
   "outputs": [],
   "source": [
    "colors = {'cables':'r', 'pdb':'b', 'kissinger':'g'}\n",
    "labels = ['cables']*len(cables) + ['pdb']*len(pdbs) + ['kissinger']*len(kissinger)"
   ]
  },
  {
   "cell_type": "code",
   "execution_count": 27,
   "metadata": {},
   "outputs": [],
   "source": [
    "textDF = pd.DataFrame({'C1':textPoints[:,0], 'C2':textPoints[:,1], 'labels':labels})"
   ]
  },
  {
   "cell_type": "code",
   "execution_count": 28,
   "metadata": {},
   "outputs": [
    {
     "data": {
      "image/png": "[encoded data removed]",
      "text/plain": [
       "<Figure size 720x720 with 1 Axes>"
      ]
     },
     "metadata": {
      "needs_background": "light"
     },
     "output_type": "display_data"
    }
   ],
   "source": [
    "_, ax = plt.subplots()\n",
    "for key,group in textDF.groupby('labels'):\n",
    "    group.plot.scatter(ax=ax, x='C1', y='C2', label=key, color = colors[key], figsize=(10,10));\n",
    "plt.title('PCA')\n",
    "plt.savefig('PCA',dpi=600)\n",
    "plt.show()"
   ]
  },
  {
   "cell_type": "code",
   "execution_count": 29,
   "metadata": {},
   "outputs": [
    {
     "data": {
      "text/plain": [
       "pandas.core.series.Series"
      ]
     },
     "execution_count": 29,
     "metadata": {},
     "output_type": "execute_result"
    }
   ],
   "source": [
    "type(cablesDF['DATE'])"
   ]
  },
  {
   "cell_type": "markdown",
   "metadata": {},
   "source": [
    "# Dates of Cables"
   ]
  },
  {
   "cell_type": "code",
   "execution_count": 30,
   "metadata": {},
   "outputs": [],
   "source": [
    "dates = cablesDF['DATE']"
   ]
  },
  {
   "cell_type": "code",
   "execution_count": 31,
   "metadata": {},
   "outputs": [
    {
     "data": {
      "text/plain": [
       "0      1973-11-11\n",
       "1      1973-12-09\n",
       "2      1973-12-11\n",
       "3      1973-12-11\n",
       "4      1973-12-12\n",
       "          ...    \n",
       "614    1976-12-25\n",
       "615    1976-12-29\n",
       "616    1976-12-29\n",
       "617    1976-12-30\n",
       "618    1977-01-01\n",
       "Name: DATE, Length: 619, dtype: object"
      ]
     },
     "execution_count": 31,
     "metadata": {},
     "output_type": "execute_result"
    }
   ],
   "source": [
    "dates[:-10]"
   ]
  },
  {
   "cell_type": "code",
   "execution_count": 32,
   "metadata": {},
   "outputs": [
    {
     "data": {
      "text/plain": [
       "629"
      ]
     },
     "execution_count": 32,
     "metadata": {},
     "output_type": "execute_result"
    }
   ],
   "source": [
    "len(dates)"
   ]
  },
  {
   "cell_type": "code",
   "execution_count": 33,
   "metadata": {},
   "outputs": [],
   "source": [
    "dateCounts = Counter(dates)"
   ]
  },
  {
   "cell_type": "code",
   "execution_count": 34,
   "metadata": {},
   "outputs": [],
   "source": [
    "dateCountsLis = list(dateCounts.items())"
   ]
  },
  {
   "cell_type": "code",
   "execution_count": 35,
   "metadata": {},
   "outputs": [],
   "source": [
    "days = [dateCountsLis[i][0] for i in range(len(dateCountsLis))]\n",
    "counts = [dateCountsLis[i][1] for i in range(len(dateCountsLis))]"
   ]
  },
  {
   "cell_type": "code",
   "execution_count": 36,
   "metadata": {},
   "outputs": [
    {
     "data": {
      "image/png": "[encoded data removed]",
      "text/plain": [
       "<Figure size 720x720 with 1 Axes>"
      ]
     },
     "metadata": {
      "needs_background": "light"
     },
     "output_type": "display_data"
    }
   ],
   "source": [
    "dateCountsSeries = pd.Series(dateCounts)\n",
    "dateCountsSeries.plot(style='r.',figsize=(10,10))\n",
    "plt.title('Time Series of Diplomatic Cables')\n",
    "plt.xlabel('Date')\n",
    "plt.ylabel('Count')\n",
    "plt.savefig('cablesTS',dpi=600)\n",
    "plt.show()"
   ]
  },
  {
   "cell_type": "markdown",
   "metadata": {},
   "source": [
    "# Named-Entity Recognition"
   ]
  },
  {
   "cell_type": "code",
   "execution_count": 37,
   "metadata": {},
   "outputs": [],
   "source": [
    "import spacy"
   ]
  },
  {
   "cell_type": "code",
   "execution_count": 38,
   "metadata": {},
   "outputs": [],
   "source": [
    "nlp = spacy.load('en_core_web_lg')"
   ]
  },
  {
   "cell_type": "code",
   "execution_count": 39,
   "metadata": {},
   "outputs": [],
   "source": [
    "lemmatizer = nltk.stem.WordNetLemmatizer()"
   ]
  },
  {
   "cell_type": "code",
   "execution_count": 40,
   "metadata": {},
   "outputs": [
    {
     "data": {
      "text/plain": [
       "list"
      ]
     },
     "execution_count": 40,
     "metadata": {},
     "output_type": "execute_result"
    }
   ],
   "source": [
    "type(cables)"
   ]
  },
  {
   "cell_type": "code",
   "execution_count": 41,
   "metadata": {},
   "outputs": [],
   "source": [
    "cablesDoc = [nlp(cable) for cable in cables]"
   ]
  },
  {
   "cell_type": "code",
   "execution_count": 42,
   "metadata": {},
   "outputs": [
    {
     "data": {
      "text/plain": [
       "174408"
      ]
     },
     "execution_count": 42,
     "metadata": {},
     "output_type": "execute_result"
    }
   ],
   "source": [
    "cableLengths = [len(nltk.word_tokenize(cable)) for cable in cables] \n",
    "totalCableLen = sum(cableLengths)\n",
    "totalCableLen"
   ]
  },
  {
   "cell_type": "code",
   "execution_count": 43,
   "metadata": {},
   "outputs": [
    {
     "data": {
      "text/plain": [
       "458"
      ]
     },
     "execution_count": 43,
     "metadata": {},
     "output_type": "execute_result"
    }
   ],
   "source": [
    "len(nltk.word_tokenize(cables[500]))"
   ]
  },
  {
   "cell_type": "code",
   "execution_count": 44,
   "metadata": {},
   "outputs": [
    {
     "name": "stdout",
     "output_type": "stream",
     "text": [
      "1 CARDINAL\n",
      "sa-7 ORG\n",
      "usa GPE\n",
      "korniyenko PERSON\n",
      "march 27 DATE\n",
      "soviet NORP\n",
      "soviet NORP\n",
      "korniyenko PERSON\n",
      "redeye to third CARDINAL\n",
      "hartman PERSON\n",
      "london's\\nheathrow airport FAC\n",
      "several month ago DATE\n",
      "korniyenko PERSON\n",
      "soviets NORP\n",
      "sa-7 ORG\n",
      "korniyenko PERSON\n",
      "question,\\nhartman PERSON\n",
      "rome\\nairport FAC\n",
      "september 1973 DATE\n",
      "korniyenko PERSON\n",
      "into\\nmatter.\\nkissinger\\n PERSON\n"
     ]
    }
   ],
   "source": [
    "for ent in cablesDoc[10].ents:\n",
    "    print(ent.lemma_,ent.label_)"
   ]
  },
  {
   "cell_type": "code",
   "execution_count": 45,
   "metadata": {},
   "outputs": [],
   "source": [
    "cablesCountries = []\n",
    "for cableDoc in cablesDoc:\n",
    "    for ent in cableDoc.ents:\n",
    "        if ent.label_=='GPE' or ent.label_=='NORP':\n",
    "            cablesCountries.append(lemmatizer.lemmatize(ent.text))"
   ]
  },
  {
   "cell_type": "code",
   "execution_count": 46,
   "metadata": {},
   "outputs": [],
   "source": [
    "cablesCountryCounts = Counter(cablesCountries)"
   ]
  },
  {
   "cell_type": "code",
   "execution_count": 47,
   "metadata": {},
   "outputs": [
    {
     "data": {
      "text/plain": [
       "[('israeli', 305),\n",
       " ('soviet', 215),\n",
       " ('u', 198),\n",
       " ('syrian', 170),\n",
       " ('egyptian', 135),\n",
       " ('israel', 133),\n",
       " ('british', 120),\n",
       " ('u.s.', 119),\n",
       " ('arab', 98),\n",
       " ('lebanon', 97),\n",
       " ('washington', 96),\n",
       " ('african', 86),\n",
       " ('geneva', 84),\n",
       " ('syria', 80),\n",
       " ('egypt', 74),\n",
       " ('greek', 66),\n",
       " ('angola', 63),\n",
       " ('american', 62),\n",
       " ('lebanese', 54),\n",
       " ('palestinian', 47),\n",
       " ('rhodesia', 46),\n",
       " ('cairo', 46),\n",
       " ('french', 44),\n",
       " ('the united states', 42),\n",
       " ('chinese', 41),\n",
       " ('uk', 40),\n",
       " ('turkish', 40),\n",
       " ('jordanian', 38),\n",
       " ('pakistan', 35),\n",
       " ('cuban', 32),\n",
       " ('damascus', 31),\n",
       " ('cyprus', 31),\n",
       " ('namibia', 30),\n",
       " ('turk', 28),\n",
       " ('christian', 27),\n",
       " ('beirut', 27),\n",
       " ('rhodesian', 27),\n",
       " ('korean', 25),\n",
       " ('ussr', 25),\n",
       " ('south africa', 24),\n",
       " ('china', 24),\n",
       " ('london', 23),\n",
       " ('new york', 22),\n",
       " ('saudi', 22),\n",
       " ('paris', 20),\n",
       " ('morocco', 20),\n",
       " ('zaire', 20),\n",
       " ('iran', 19),\n",
       " ('algeria', 19),\n",
       " ('algerian', 19)]"
      ]
     },
     "execution_count": 47,
     "metadata": {},
     "output_type": "execute_result"
    }
   ],
   "source": [
    "cablesCountryCounts.most_common(50)"
   ]
  },
  {
   "cell_type": "code",
   "execution_count": 48,
   "metadata": {},
   "outputs": [
    {
     "data": {
      "text/plain": [
       "'u'"
      ]
     },
     "execution_count": 48,
     "metadata": {},
     "output_type": "execute_result"
    }
   ],
   "source": [
    "# Note 'us' is lemmatized to 'u'\n",
    "lemmatizer.lemmatize('us')"
   ]
  },
  {
   "cell_type": "code",
   "execution_count": 49,
   "metadata": {},
   "outputs": [],
   "source": [
    "cablesCountryCountsDict = dict(cablesCountryCounts)"
   ]
  },
  {
   "cell_type": "code",
   "execution_count": 50,
   "metadata": {},
   "outputs": [],
   "source": [
    "cableCountryCountsClean = {\n",
    "    'U.S.': cablesCountryCountsDict['u.s.'] + cablesCountryCountsDict['u'] + cablesCountryCountsDict['the united states'] + cablesCountryCountsDict['american'],\n",
    "    'U.K.': cablesCountryCountsDict['uk'] + cablesCountryCountsDict['british'] + cablesCountryCountsDict['britain'],\n",
    "    'Israel': cablesCountryCountsDict['israel'] + cablesCountryCountsDict['israeli'],\n",
    "    'USSR': cablesCountryCountsDict['soviet'] + cablesCountryCountsDict['ussr'] + cablesCountryCountsDict['russia'] + cablesCountryCountsDict['russian'],\n",
    "    'Syria': cablesCountryCountsDict['syrian'] + cablesCountryCountsDict['syria'],\n",
    "    'Egypt': cablesCountryCountsDict['egypt'] + cablesCountryCountsDict['egyptian'],\n",
    "    'France': cablesCountryCountsDict['french'] + cablesCountryCountsDict['france'],\n",
    "    'China': cablesCountryCountsDict['chinese'] + cablesCountryCountsDict['china'],\n",
    "    'Algeria': cablesCountryCountsDict['algeria'] + cablesCountryCountsDict['algerian'],\n",
    "    'Lebanon': cablesCountryCountsDict['lebanon'] + cablesCountryCountsDict['lebanese'],\n",
    "    'Greece': cablesCountryCountsDict['greece'] + cablesCountryCountsDict['greek'],\n",
    "    'Angola': cablesCountryCountsDict['angola'] + cablesCountryCountsDict['angolan'],\n",
    "    'Pakistan': cablesCountryCountsDict['pakistan'],\n",
    "    'Palestine': cablesCountryCountsDict['palestine'] + cablesCountryCountsDict['palestinian'],\n",
    "    'Cuba': cablesCountryCountsDict['cuba'] + cablesCountryCountsDict['cuban'],\n",
    "    'Korea': cablesCountryCountsDict['korean'] + cablesCountryCountsDict['north korea'] + cablesCountryCountsDict['north korean'] + cablesCountryCountsDict['south korean'],\n",
    "    'Turkey': cablesCountryCountsDict['turk'] + cablesCountryCountsDict['turkey'] + cablesCountryCountsDict['turkish'],\n",
    "    'Cyprus': cablesCountryCountsDict['cypriot'] + cablesCountryCountsDict['cyprus']\n",
    "}"
   ]
  },
  {
   "cell_type": "code",
   "execution_count": 51,
   "metadata": {},
   "outputs": [
    {
     "data": {
      "text/plain": [
       "{'U.S.': 421,\n",
       " 'U.K.': 172,\n",
       " 'Israel': 438,\n",
       " 'USSR': 258,\n",
       " 'Syria': 250,\n",
       " 'Egypt': 209,\n",
       " 'France': 55,\n",
       " 'China': 65,\n",
       " 'Algeria': 38,\n",
       " 'Lebanon': 151,\n",
       " 'Greece': 76,\n",
       " 'Angola': 71,\n",
       " 'Pakistan': 35,\n",
       " 'Palestine': 50,\n",
       " 'Cuba': 38,\n",
       " 'Korea': 34,\n",
       " 'Turkey': 86,\n",
       " 'Cyprus': 36}"
      ]
     },
     "execution_count": 51,
     "metadata": {},
     "output_type": "execute_result"
    }
   ],
   "source": [
    "cableCountryCountsClean"
   ]
  },
  {
   "cell_type": "code",
   "execution_count": 52,
   "metadata": {},
   "outputs": [],
   "source": [
    "cablesCountryCountSorted = sorted(cableCountryCountsClean.items(), key=lambda x: x[1], reverse=True)"
   ]
  },
  {
   "cell_type": "code",
   "execution_count": 53,
   "metadata": {},
   "outputs": [
    {
     "data": {
      "text/plain": [
       "[('Israel', 438),\n",
       " ('U.S.', 421),\n",
       " ('USSR', 258),\n",
       " ('Syria', 250),\n",
       " ('Egypt', 209),\n",
       " ('U.K.', 172),\n",
       " ('Lebanon', 151),\n",
       " ('Turkey', 86),\n",
       " ('Greece', 76),\n",
       " ('Angola', 71)]"
      ]
     },
     "execution_count": 53,
     "metadata": {},
     "output_type": "execute_result"
    }
   ],
   "source": [
    "cablesCountryCountSorted[:10]"
   ]
  },
  {
   "cell_type": "code",
   "execution_count": 54,
   "metadata": {},
   "outputs": [
    {
     "data": {
      "text/plain": [
       "[('Israel', 0.002511352690243567),\n",
       " ('U.S.', 0.0024138800972432458),\n",
       " ('USSR', 0.0014792899408284023),\n",
       " ('Syria', 0.0014334204852988394),\n",
       " ('Egypt', 0.00119833952570983),\n",
       " ('U.K.', 0.0009861932938856016),\n",
       " ('Lebanon', 0.0008657859731204991),\n",
       " ('Turkey', 0.0004930966469428008),\n",
       " ('Greece', 0.0004357598275308472),\n",
       " ('Angola', 0.0004070914178248704)]"
      ]
     },
     "execution_count": 54,
     "metadata": {},
     "output_type": "execute_result"
    }
   ],
   "source": [
    "cablesCountryFreq = []\n",
    "for (country, count) in cablesCountryCountSorted:\n",
    "    cablesCountryFreq.append((country, count/totalCableLen))\n",
    "cablesCountryFreq[:10]"
   ]
  },
  {
   "cell_type": "code",
   "execution_count": 55,
   "metadata": {},
   "outputs": [],
   "source": [
    "def countryCounts(texts):\n",
    "    textsDoc = [nlp(text.lower()) for text in texts]\n",
    "    textsCountries = []\n",
    "    for textDoc in textsDoc:\n",
    "        for ent in textDoc.ents:\n",
    "            if ent.label_=='GPE' or ent.label_=='NORP':\n",
    "                textsCountries.append(lemmatizer.lemmatize(ent.text))\n",
    "    textCountryCounts = Counter(textsCountries)\n",
    "    return textCountryCounts"
   ]
  },
  {
   "cell_type": "code",
   "execution_count": 56,
   "metadata": {},
   "outputs": [],
   "source": [
    "pdbCountryCounts = countryCounts(pdbs)"
   ]
  },
  {
   "cell_type": "code",
   "execution_count": 57,
   "metadata": {},
   "outputs": [
    {
     "data": {
      "text/plain": [
       "1670263"
      ]
     },
     "execution_count": 57,
     "metadata": {},
     "output_type": "execute_result"
    }
   ],
   "source": [
    "pdbLengths = [len(nltk.word_tokenize(pdb)) for pdb in pdbs] \n",
    "totalPdbLen = sum(pdbLengths)\n",
    "totalPdbLen"
   ]
  },
  {
   "cell_type": "code",
   "execution_count": 58,
   "metadata": {},
   "outputs": [
    {
     "data": {
      "text/plain": [
       "[('soviet', 4857),\n",
       " ('u', 4083),\n",
       " ('ussr', 2339),\n",
       " ('communist', 2069),\n",
       " ('arab', 1995),\n",
       " ('israeli', 1884),\n",
       " ('lebanon', 1878),\n",
       " ('egypt', 1870),\n",
       " ('syrian', 1869),\n",
       " ('israel', 1783),\n",
       " ('moscow', 1614),\n",
       " ('syria', 1559),\n",
       " ('palestinian', 1419),\n",
       " ('egyptian', 1292),\n",
       " ('china', 1247),\n",
       " ('christian', 1155),\n",
       " ('angola', 1048),\n",
       " ('portugal', 1045),\n",
       " ('turkish', 1004),\n",
       " ('chinese', 948),\n",
       " ('lebanese', 773),\n",
       " ('greek', 743),\n",
       " ('peking', 726),\n",
       " ('cairo', 694),\n",
       " ('beirut', 679),\n",
       " ('french', 664),\n",
       " ('damascus', 640),\n",
       " ('cyprus', 637),\n",
       " ('turkey', 635),\n",
       " ('portuguese', 595),\n",
       " ('libya', 548),\n",
       " ('france', 518),\n",
       " ('cambodia', 512),\n",
       " ('japan', 502),\n",
       " ('saigon', 492),\n",
       " ('cuba', 482),\n",
       " ('iran', 482),\n",
       " ('phnom penh', 464),\n",
       " ('tn', 454),\n",
       " ('muslim', 451),\n",
       " ('saudi', 448),\n",
       " ('iraq', 439),\n",
       " ('saudi arabia', 439),\n",
       " ('cypriot', 438),\n",
       " ('thailand', 432),\n",
       " ('cuban', 428),\n",
       " ('greece', 404),\n",
       " ('north vietnamese', 380),\n",
       " ('lao', 380),\n",
       " ('lisbon', 374)]"
      ]
     },
     "execution_count": 58,
     "metadata": {},
     "output_type": "execute_result"
    }
   ],
   "source": [
    "pdbCountryCounts.most_common(50)"
   ]
  },
  {
   "cell_type": "code",
   "execution_count": 59,
   "metadata": {},
   "outputs": [],
   "source": [
    "pdbCountryCountsDict = dict(pdbCountryCounts)"
   ]
  },
  {
   "cell_type": "code",
   "execution_count": 60,
   "metadata": {},
   "outputs": [],
   "source": [
    "pdbCountryCountsClean = {\n",
    "    'U.S.': pdbCountryCountsDict['u.s.'] + pdbCountryCountsDict['u'] + pdbCountryCountsDict['the united states'] + pdbCountryCountsDict['american'],\n",
    "    'U.K.': pdbCountryCountsDict['uk'] + pdbCountryCountsDict['british'] + pdbCountryCountsDict['britain'],\n",
    "    'Israel': pdbCountryCountsDict['israel'] + pdbCountryCountsDict['israeli'],\n",
    "    'USSR': pdbCountryCountsDict['soviet'] + pdbCountryCountsDict['ussr'] + pdbCountryCountsDict['russia'] + pdbCountryCountsDict['russian'],\n",
    "    'Syria': pdbCountryCountsDict['syrian'] + pdbCountryCountsDict['syria'],\n",
    "    'Egypt': pdbCountryCountsDict['egypt'] + pdbCountryCountsDict['egyptian'],\n",
    "    'France': pdbCountryCountsDict['french'] + pdbCountryCountsDict['france'],\n",
    "    'China': pdbCountryCountsDict['chinese'] + pdbCountryCountsDict['china'],\n",
    "    'Algeria': pdbCountryCountsDict['algeria'] + pdbCountryCountsDict['algerian'],\n",
    "    'Lebanon': pdbCountryCountsDict['lebanon'] + pdbCountryCountsDict['lebanese'],\n",
    "    'Greece': pdbCountryCountsDict['greece'] + pdbCountryCountsDict['greek'],\n",
    "    'Angola': pdbCountryCountsDict['angola'] + pdbCountryCountsDict['angolan'],\n",
    "    'Pakistan': pdbCountryCountsDict['pakistan'],\n",
    "    'Palestine': pdbCountryCountsDict['palestine'] + pdbCountryCountsDict['palestinian'],\n",
    "    'Cuba': pdbCountryCountsDict['cuba'] + pdbCountryCountsDict['cuban'],\n",
    "    'Korea': pdbCountryCountsDict['korean'] + pdbCountryCountsDict['north korea'] + pdbCountryCountsDict['north korean'] + pdbCountryCountsDict['south korean'],\n",
    "    'Turkey': pdbCountryCountsDict['turk'] + pdbCountryCountsDict['turkey'] + pdbCountryCountsDict['turkish'],\n",
    "    'Cyprus': pdbCountryCountsDict['cypriot'] + pdbCountryCountsDict['cyprus'],\n",
    "    'Portugal': pdbCountryCountsDict['portugal'] + pdbCountryCountsDict['portuguese'],\n",
    "    'Japan': pdbCountryCountsDict['japan'] + pdbCountryCountsDict['japanese'],\n",
    "    'Libya': pdbCountryCountsDict['libya'] + pdbCountryCountsDict['libyan'],\n",
    "    'Cambodia': pdbCountryCountsDict['cambodia'] + pdbCountryCountsDict['cambodian']\n",
    "}"
   ]
  },
  {
   "cell_type": "code",
   "execution_count": 61,
   "metadata": {},
   "outputs": [
    {
     "data": {
      "text/plain": [
       "{'U.S.': 4327,\n",
       " 'U.K.': 666,\n",
       " 'Israel': 3667,\n",
       " 'USSR': 7215,\n",
       " 'Syria': 3428,\n",
       " 'Egypt': 3162,\n",
       " 'France': 1182,\n",
       " 'China': 2195,\n",
       " 'Algeria': 395,\n",
       " 'Lebanon': 2651,\n",
       " 'Greece': 1147,\n",
       " 'Angola': 1188,\n",
       " 'Pakistan': 166,\n",
       " 'Palestine': 1543,\n",
       " 'Cuba': 910,\n",
       " 'Korea': 399,\n",
       " 'Turkey': 1908,\n",
       " 'Cyprus': 1075,\n",
       " 'Portugal': 1640,\n",
       " 'Japan': 805,\n",
       " 'Libya': 900,\n",
       " 'Cambodia': 749}"
      ]
     },
     "execution_count": 61,
     "metadata": {},
     "output_type": "execute_result"
    }
   ],
   "source": [
    "pdbCountryCountsClean"
   ]
  },
  {
   "cell_type": "code",
   "execution_count": 62,
   "metadata": {},
   "outputs": [],
   "source": [
    "pdbCountryCountsSorted = sorted(pdbCountryCountsClean.items(), key=lambda x: x[1], reverse=True)"
   ]
  },
  {
   "cell_type": "code",
   "execution_count": 63,
   "metadata": {},
   "outputs": [
    {
     "data": {
      "text/plain": [
       "[('USSR', 7215),\n",
       " ('U.S.', 4327),\n",
       " ('Israel', 3667),\n",
       " ('Syria', 3428),\n",
       " ('Egypt', 3162),\n",
       " ('Lebanon', 2651),\n",
       " ('China', 2195),\n",
       " ('Turkey', 1908),\n",
       " ('Portugal', 1640),\n",
       " ('Palestine', 1543)]"
      ]
     },
     "execution_count": 63,
     "metadata": {},
     "output_type": "execute_result"
    }
   ],
   "source": [
    "pdbCountryCountsSorted[:10]"
   ]
  },
  {
   "cell_type": "code",
   "execution_count": 64,
   "metadata": {},
   "outputs": [
    {
     "data": {
      "text/plain": [
       "[('USSR', 0.004319678996661005),\n",
       " ('U.S.', 0.0025906099817813123),\n",
       " ('Israel', 0.0021954626307353993),\n",
       " ('Syria', 0.002052371393008167),\n",
       " ('Egypt', 0.0018931150363745112),\n",
       " ('Lebanon', 0.001587175193367751),\n",
       " ('China', 0.0013141642962814838),\n",
       " ('Turkey', 0.001142335069387276),\n",
       " ('Portugal', 0.0009818812965383297),\n",
       " ('Palestine', 0.0009238066100967332)]"
      ]
     },
     "execution_count": 64,
     "metadata": {},
     "output_type": "execute_result"
    }
   ],
   "source": [
    "pdbCountryFreq = []\n",
    "for (country, count) in pdbCountryCountsSorted:\n",
    "    pdbCountryFreq.append((country, count/totalPdbLen))\n",
    "pdbCountryFreq[:10]"
   ]
  },
  {
   "cell_type": "code",
   "execution_count": 41,
   "metadata": {
    "collapsed": true,
    "jupyter": {
     "outputs_hidden": true
    }
   },
   "outputs": [
    {
     "data": {
      "text/plain": [
       "Counter({'new york': 263,\n",
       "         'new york\\n       ': 1,\n",
       "         'columbus day': 1,\n",
       "         'maynard      ': 1,\n",
       "         'morgan': 3,\n",
       "         'stoessel': 7,\n",
       "         'infull': 15,\n",
       "         'italian': 55,\n",
       "         'india': 37,\n",
       "         'chinese': 174,\n",
       "         'boise': 1,\n",
       "         'idaho': 3,\n",
       "         'frenchman': 5,\n",
       "         'reykjavik': 1,\n",
       "         'ound': 1,\n",
       "         'canadian': 56,\n",
       "         'russian': 480,\n",
       "         'arab': 443,\n",
       "         'thoughtis': 1,\n",
       "         'democrat': 60,\n",
       "         'austrian': 19,\n",
       "         'tn': 22,\n",
       "         'china': 159,\n",
       "         'cambodia': 59,\n",
       "         'cambodian': 10,\n",
       "         'peking': 27,\n",
       "         'soviet': 746,\n",
       "         'europe\\n        ': 1,\n",
       "         'french': 304,\n",
       "         'european': 211,\n",
       "         'german': 125,\n",
       "         'ta london': 1,\n",
       "         'moro': 3,\n",
       "         'bonn': 39,\n",
       "         'ny': 39,\n",
       "         'germany': 41,\n",
       "         'geneva': 187,\n",
       "         'republican': 50,\n",
       "         'japan': 75,\n",
       "         'abshire': 2,\n",
       "         'east asian': 1,\n",
       "         'irishman': 5,\n",
       "         'jewish': 237,\n",
       "         'sonnenfeldt': 4,\n",
       "         'motto': 1,\n",
       "         'israeli': 1170,\n",
       "         'jewry': 2,\n",
       "         'washington': 273,\n",
       "         'soviet jews': 2,\n",
       "         'terris': 1,\n",
       "         'javits': 47,\n",
       "         'latin american': 32,\n",
       "         'latin\\n': 2,\n",
       "         'american': 435,\n",
       "         'latino': 2,\n",
       "         'turk': 318,\n",
       "         'wwi': 2,\n",
       "         'turkey': 171,\n",
       "         'sati': 1,\n",
       "         'ctly': 3,\n",
       "         'indian': 21,\n",
       "         'ivory coast': 1,\n",
       "         'haiti': 2,\n",
       "         'h4tgy': 1,\n",
       "         'waldorf': 7,\n",
       "         'egyptian': 728,\n",
       "         'syrian': 444,\n",
       "         'moscow': 390,\n",
       "         'dobryntq/ kissinger': 1,\n",
       "         'british': 404,\n",
       "         'israel': 810,\n",
       "         'syria': 181,\n",
       "         'kissinger/\\n            ': 1,\n",
       "         'dept': 128,\n",
       "         'london': 194,\n",
       "         'pakistani': 8,\n",
       "         'uk': 14,\n",
       "         'india      ': 1,\n",
       "         'maryland': 3,\n",
       "         'damascus': 59,\n",
       "         'cairo': 173,\n",
       "         'egypt': 286,\n",
       "         'united states': 78,\n",
       "         'egyplians': 1,\n",
       "         'znessage': 1,\n",
       "         'the united states': 140,\n",
       "         'scowcrofts': 1,\n",
       "         'jerusalem': 67,\n",
       "         'n. y.': 1,\n",
       "         'bd5 a. m.': 1,\n",
       "         'u': 191,\n",
       "         \"j'erusalem\": 4,\n",
       "         'saudi arabia': 59,\n",
       "         'the syrians\\n                 ': 1,\n",
       "         'golan': 18,\n",
       "         'sinai': 49,\n",
       "         'arabic': 2,\n",
       "         'noat': 1,\n",
       "         'hebrew': 1,\n",
       "         'ihmarl': 1,\n",
       "         'sc.': 2,\n",
       "         'pakistan': 34,\n",
       "         'xpadec         ': 1,\n",
       "         'ga': 13,\n",
       "         'asian': 15,\n",
       "         'gromyko': 24,\n",
       "         'jew': 81,\n",
       "         'washington         ': 3,\n",
       "         'zayyat': 4,\n",
       "         'withus': 1,\n",
       "         'hea': 1,\n",
       "         'haig': 6,\n",
       "         'specigc': 1,\n",
       "         'washington\\n        ': 1,\n",
       "         'washington        ': 1,\n",
       "         'pa': 9,\n",
       "         'znind': 1,\n",
       "         'ldll': 1,\n",
       "         'jordan': 36,\n",
       "         'rrab': 2,\n",
       "         'tehran': 18,\n",
       "         'ourn': 1,\n",
       "         \"t'ie\": 2,\n",
       "         'benites': 1,\n",
       "         'copenhagen': 10,\n",
       "         'mormng': 1,\n",
       "         'north vietnam': 12,\n",
       "         'saudi': 120,\n",
       "         'united states   ': 1,\n",
       "         'comt': 1,\n",
       "         'we.sington.': 1,\n",
       "         'ths\\n            ': 1,\n",
       "         'the soviet union': 142,\n",
       "         'understa': 1,\n",
       "         'nd': 7,\n",
       "         'nazareth': 1,\n",
       "         'tel aviv': 42,\n",
       "         'diqicult': 2,\n",
       "         'the eastern bank': 1,\n",
       "         'ther syria': 1,\n",
       "         \"i'hi\": 1,\n",
       "         'spade': 3,\n",
       "         'australian': 33,\n",
       "         'america': 53,\n",
       "         'fuli': 15,\n",
       "         'statusquo': 2,\n",
       "         'telecon': 92,\n",
       "         'dobrynin': 5,\n",
       "         'bganry': 1,\n",
       "         'mt': 5,\n",
       "         'britian': 5,\n",
       "         'zeceived\\n             ': 1,\n",
       "         \"the'egyptians\": 2,\n",
       "         'west german': 2,\n",
       "         'west germany': 4,\n",
       "         'convere\\n             ': 1,\n",
       "         'el al': 2,\n",
       "         'thean': 1,\n",
       "         'chile': 68,\n",
       "         'origian': 1,\n",
       "         'mian i beach': 1,\n",
       "         'syrui\\n             ': 1,\n",
       "         'western europeans': 2,\n",
       "         'san     ': 1,\n",
       "         'francisco': 1,\n",
       "         'resolutiens': 1,\n",
       "         'itussians': 2,\n",
       "         'israelies': 3,\n",
       "         'north viet-nam': 1,\n",
       "         'soviet-american': 3,\n",
       "         'the\\n     syrians': 1,\n",
       "         'mt     ': 1,\n",
       "         'r.': 8,\n",
       "         'athens': 95,\n",
       "         'lebanon': 93,\n",
       "         'the\\n              israelis': 1,\n",
       "         'dulles': 9,\n",
       "         'the\\n             arabs': 1,\n",
       "         'mansfield': 55,\n",
       "         'n.     ': 1,\n",
       "         'canada': 50,\n",
       "         'britain': 21,\n",
       "         'dillon japan': 1,\n",
       "         'golan heights': 2,\n",
       "         'iran': 55,\n",
       "         'lebanese': 38,\n",
       "         'calif.': 1,\n",
       "         'o. k.\\n                                                                      ': 1,\n",
       "         \"ou'tbreak\": 1,\n",
       "         'cyprus': 196,\n",
       "         'luckyj': 1,\n",
       "         'rssembly': 1,\n",
       "         'sc': 1,\n",
       "         'waldheim': 5,\n",
       "         'yugoslav': 7,\n",
       "         '~igriigp': 1,\n",
       "         'sudan': 4,\n",
       "         'xbek9filis': 1,\n",
       "         'soviet union': 7,\n",
       "         'ehlt of state': 1,\n",
       "         'iordanians': 2,\n",
       "         \"didn'0    \": 1,\n",
       "         'the ivory coast': 2,\n",
       "         'new york\\n                  ': 1,\n",
       "         'the\\n          soviet union': 2,\n",
       "         'discuss--': 1,\n",
       "         'libya': 12,\n",
       "         'algeria': 14,\n",
       "         'iraq': 10,\n",
       "         'iraqi': 8,\n",
       "         'prc': 6,\n",
       "         'inaybe': 1,\n",
       "         'terxns': 2,\n",
       "         'xnake': 3,\n",
       "         'infull\\n             ': 4,\n",
       "         'el-za': 1,\n",
       "         'scsli': 1,\n",
       "         'marine': 9,\n",
       "         'peru': 8,\n",
       "         'kenya': 10,\n",
       "         'guinea': 4,\n",
       "         'need+': 1,\n",
       "         'departi%1epit': 1,\n",
       "         'd.': 97,\n",
       "         'ir ks': 1,\n",
       "         'chilean': 22,\n",
       "         'departmeivt': 1,\n",
       "         'kenyan': 5,\n",
       "         'russia': 48,\n",
       "         'brokedn': 1,\n",
       "         'clemente': 1,\n",
       "         'iz': 1,\n",
       "         'heath': 2,\n",
       "         'diploxnacy': 1,\n",
       "         'ki': 3,\n",
       "         'jordanian': 36,\n",
       "         'california': 57,\n",
       "         'ny7        ': 1,\n",
       "         'connally\\n        ': 1,\n",
       "         'st asian': 1,\n",
       "         'blackpool': 1,\n",
       "         \"him'to\": 1,\n",
       "         'the\\n    australians': 1,\n",
       "         'democratic': 8,\n",
       "         'dobrynin\\n          ': 1,\n",
       "         'christ': 2,\n",
       "         'the\\n     israelis': 1,\n",
       "         '~-': 3,\n",
       "         'sharm ash': 1,\n",
       "         'palestinian': 26,\n",
       "         'stinians': 1,\n",
       "         'portugese': 4,\n",
       "         'c-141s     ': 1,\n",
       "         'nati': 1,\n",
       "         'iowa': 2,\n",
       "         'pleans': 1,\n",
       "         'france': 53,\n",
       "         'morningp': 1,\n",
       "         'm.': 11,\n",
       "         'sadat mill': 1,\n",
       "         'australia': 20,\n",
       "         \"it'shoum\": 1,\n",
       "         'pe%': 1,\n",
       "         'anstrs1tans': 1,\n",
       "         'cromer': 1,\n",
       "         'austra': 1,\n",
       "         'boston': 32,\n",
       "         'portuguese': 7,\n",
       "         'brit': 3,\n",
       "         '5qfjfx': 1,\n",
       "         'west\\n         ': 1,\n",
       "         'f4s': 1,\n",
       "         'or~': 1,\n",
       "         'gmazal': 1,\n",
       "         'wash\\n                                 ': 1,\n",
       "         \"a'-\": 1,\n",
       "         'j1mq': 1,\n",
       "         'il': 7,\n",
       "         'denmark': 2,\n",
       "         'exp2esses': 1,\n",
       "         'som american': 1,\n",
       "         'palestine': 12,\n",
       "         'the united states\\n            ': 1,\n",
       "         'united\\n       ': 1,\n",
       "         'thailand': 15,\n",
       "         'sbnsxk': 1,\n",
       "         'jodx': 1,\n",
       "         'the k israelis': 1,\n",
       "         'possibil': 1,\n",
       "         'san clemente': 18,\n",
       "         'westmoreland': 1,\n",
       "         'xnentioned': 1,\n",
       "         'kissinger/                              ': 1,\n",
       "         'cali': 12,\n",
       "         'berlin': 23,\n",
       "         'cuban': 35,\n",
       "         'afghan': 3,\n",
       "         'jackson': 11,\n",
       "         'kissingez': 1,\n",
       "         'oohi': 1,\n",
       "         'sa': 1,\n",
       "         'y': 2,\n",
       "         'kuwait': 14,\n",
       "         'daman': 1,\n",
       "         'morocco': 13,\n",
       "         'tunisia': 1,\n",
       "         'aftez': 1,\n",
       "         'algerian': 27,\n",
       "         'sozne': 4,\n",
       "         'vietnam': 107,\n",
       "         'tne soviets': 1,\n",
       "         'thein': 1,\n",
       "         'the west bank': 8,\n",
       "         'sudanese': 1,\n",
       "         'japanese': 60,\n",
       "         'viet nam': 9,\n",
       "         'african': 97,\n",
       "         'nicaraguan': 2,\n",
       "         'ankara': 61,\n",
       "         'phnom penh': 12,\n",
       "         'argentina': 15,\n",
       "         'a4rlift': 1,\n",
       "         'puerto rico': 15,\n",
       "         'xnorning': 2,\n",
       "         'kosygin': 1,\n",
       "         'xnisle@': 1,\n",
       "         'tokyo': 13,\n",
       "         'phnom        ': 1,\n",
       "         'co!lsil': 1,\n",
       "         'brazil': 30,\n",
       "         'latin\\n         ': 1,\n",
       "         'zayyat\\n      ': 1,\n",
       "         'alexandria': 9,\n",
       "         'paris': 108,\n",
       "         'mcclosekey': 2,\n",
       "         'arkansas': 11,\n",
       "         'y2u\\n                                                                  ': 1,\n",
       "         \"u'.3e\": 1,\n",
       "         '--the soviet union': 1,\n",
       "         \"the'message\": 1,\n",
       "         'youp': 3,\n",
       "         'negotiati': 1,\n",
       "         'vietnamese': 48,\n",
       "         'ti.me': 2,\n",
       "         'pan american': 2,\n",
       "         'leningrad': 5,\n",
       "         'nrto': 1,\n",
       "         'the soviet union\\n                    ': 1,\n",
       "         'ssibe': 1,\n",
       "         \"px'inciple\": 1,\n",
       "         \"y'ou\": 4,\n",
       "         'the?ast': 1,\n",
       "         'goct': 1,\n",
       "         'aph': 1,\n",
       "         'con5uae': 1,\n",
       "         'k': 3,\n",
       "         'cess»fire.': 1,\n",
       "         'tahe': 4,\n",
       "         'chech': 1,\n",
       "         'kc hooic': 1,\n",
       "         'hioscow': 1,\n",
       "         \"pr'esident\": 1,\n",
       "         'the arab republic': 1,\n",
       "         'secretary,,but': 1,\n",
       "         'bahrain': 5,\n",
       "         'austria': 9,\n",
       "         'scandinavian': 3,\n",
       "         'scandanavian': 2,\n",
       "         'frankfurt': 7,\n",
       "         'cafro': 1,\n",
       "         'irish': 7,\n",
       "         'the\\n                  arabs': 1,\n",
       "         'speedly': 1,\n",
       "         'tajktng': 1,\n",
       "         \"you'cannot     \": 1,\n",
       "         'suez city': 5,\n",
       "         'bucharest': 5,\n",
       "         'actingbetter': 1,\n",
       "         'wi': 6,\n",
       "         'urances': 1,\n",
       "         'su\\n      ': 1,\n",
       "         'el': 1,\n",
       "         'the east bank': 7,\n",
       "         'mfpi': 1,\n",
       "         'friday2': 1,\n",
       "         'ihe\\n          ': 1,\n",
       "         'mitls': 1,\n",
       "         'amman': 16,\n",
       "         'cuba': 59,\n",
       "         'scandanavians': 1,\n",
       "         'wrang': 1,\n",
       "         'florida': 31,\n",
       "         'israelwillspeak': 1,\n",
       "         'u. s.': 1,\n",
       "         'tel\\n             aviv': 1,\n",
       "         'the u. s.\\n             ': 1,\n",
       "         'the u. s.': 11,\n",
       "         'modality7': 1,\n",
       "         'sicily': 1,\n",
       "         'new york\\n              ': 1,\n",
       "         'rican': 1,\n",
       "         'communist': 35,\n",
       "         'eastern european': 6,\n",
       "         'hese': 1,\n",
       "         'malaysia': 2,\n",
       "         'nigeria': 2,\n",
       "         'east european': 2,\n",
       "         'sweden': 14,\n",
       "         'eastern europeans': 2,\n",
       "         'yugoslavia': 34,\n",
       "         'finnish': 1,\n",
       "         'swedish': 8,\n",
       "         'alaskan': 1,\n",
       "         'alaska': 7,\n",
       "         \"bans&'~and\": 1,\n",
       "         'camp david': 1,\n",
       "         'norwegian': 6,\n",
       "         'sm\\n             ': 1,\n",
       "         'swede': 9,\n",
       "         \"the soviet union'\": 1,\n",
       "         'the soviet\\n  ': 1,\n",
       "         'the soviets\\n  ': 1,\n",
       "         'romania': 24,\n",
       "         'nc': 2,\n",
       "         'uparm climates': 1,\n",
       "         \"salute'him\": 1,\n",
       "         'huznanitarian': 1,\n",
       "         'bosporos': 1,\n",
       "         'viet-nam': 2,\n",
       "         'georgetown': 1,\n",
       "         'usy\\n       ': 1,\n",
       "         'lollapalooza': 1,\n",
       "         'statf': 1,\n",
       "         'poland': 43,\n",
       "         'isrealis': 1,\n",
       "         'polish': 11,\n",
       "         'cs11': 1,\n",
       "         'israel      ': 1,\n",
       "         \"i'.s\": 1,\n",
       "         'u|3': 1,\n",
       "         's»rl': 1,\n",
       "         'ovcrseo': 1,\n",
       "         'scalt': 1,\n",
       "         'unqte': 1,\n",
       "         'zionist': 9,\n",
       "         'vill\\n                                                          ': 1,\n",
       "         'congo': 2,\n",
       "         'hanoi': 13,\n",
       "         'soviet/american': 1,\n",
       "         'ussr': 13,\n",
       "         'brezhnev': 6,\n",
       "         'prizne': 2,\n",
       "         'night7': 2,\n",
       "         'k.\\n        ': 1,\n",
       "         'ull\\n          telecon': 1,\n",
       "         'assoon': 1,\n",
       "         'teheran     ': 1,\n",
       "         'saudi     arabia': 1,\n",
       "         'teheran': 3,\n",
       "         'saudia arabia': 3,\n",
       "         'tomorrc\\n             ': 1,\n",
       "         \"j'apanese\": 1,\n",
       "         'theegyptian': 1,\n",
       "         'arabian': 2,\n",
       "         'texan': 4,\n",
       "         'rusians': 2,\n",
       "         'yoa hnoa': 1,\n",
       "         'srlft': 1,\n",
       "         'pickering': 7,\n",
       "         'monda': 1,\n",
       "         'rsxrhhstz soviets': 1,\n",
       "         'guatemala': 5,\n",
       "         'laurel': 1,\n",
       "         'mass«vers': 1,\n",
       "         'kc\\n             ': 1,\n",
       "         'hoar': 2,\n",
       "         'yi00         ': 1,\n",
       "         'sao': 1,\n",
       "         'rabat': 5,\n",
       "         'egytpians': 1,\n",
       "         'montana': 4,\n",
       "         'los angeles': 30,\n",
       "         'ghana': 14,\n",
       "         'warsaw': 3,\n",
       "         'bulgaria': 4,\n",
       "         'bulgarian': 2,\n",
       "         'serbia': 1,\n",
       "         'montenegro': 2,\n",
       "         'albania': 4,\n",
       "         'poland\\n             ': 1,\n",
       "         'pol:.hd': 1,\n",
       "         'cromyko': 2,\n",
       "         'czech': 3,\n",
       "         'buigaria': 1,\n",
       "         'south africa': 43,\n",
       "         'indonesia': 18,\n",
       "         'indonesian': 9,\n",
       "         'liberian': 1,\n",
       "         'holland': 1,\n",
       "         'lg73': 1,\n",
       "         'moscaw': 1,\n",
       "         \"can'tstart\": 1,\n",
       "         'thai': 20,\n",
       "         'east bank': 1,\n",
       "         'west bank': 4,\n",
       "         \"af'ricans\": 1,\n",
       "         'ican': 3,\n",
       "         'korean': 35,\n",
       "         'takepalce': 1,\n",
       "         'saqquf\\n    all': 1,\n",
       "         'his--': 1,\n",
       "         'wednesday--\\n        ': 1,\n",
       "         'dane': 3,\n",
       "         'eely': 1,\n",
       "         'not--\\n             ': 1,\n",
       "         'telecon\\n        ': 7,\n",
       "         'lillian;and': 1,\n",
       "         'algiers': 5,\n",
       "         'schlesinger/': 1,\n",
       "         'jupmingest': 1,\n",
       "         'new zealand': 4,\n",
       "         'arabia': 3,\n",
       "         'bogota': 2,\n",
       "         'mexico': 64,\n",
       "         'acapulco': 20,\n",
       "         'texas': 27,\n",
       "         'new        mexico': 1,\n",
       "         \"j'ordanians\": 2,\n",
       "         'saudi          arabia': 1,\n",
       "         'pine': 6,\n",
       "         'central american': 1,\n",
       "         'torillos': 1,\n",
       "         'uiet-nam': 1,\n",
       "         'e.': 1,\n",
       "         'iectlon': 1,\n",
       "         \"t:.a:-'w'm\": 1,\n",
       "         '»': 11,\n",
       "         '~2i': 1,\n",
       "         'dutch': 16,\n",
       "         'ca31': 1,\n",
       "         'colombian': 1,\n",
       "         'rome': 24,\n",
       "         'italy': 40,\n",
       "         'realiy\\n                  ': 1,\n",
       "         'sovim-/iunerlcan\\n                  ~gicee': 1,\n",
       "         'o2r\\n                       ': 1,\n",
       "         '~~~~~1         ': 1,\n",
       "         'brussels': 46,\n",
       "         'runthese': 1,\n",
       "         'vnuld               ': 1,\n",
       "         'mexico city': 9,\n",
       "         'it.-': 1,\n",
       "         'beirut': 20,\n",
       "         'sahad\\n          ould': 1,\n",
       "         'telecon\\n    ': 1,\n",
       "         'aden': 1,\n",
       "         'ricrht': 1,\n",
       "         'england': 10,\n",
       "         'american-european': 1,\n",
       "         \"j'ewish\": 2,\n",
       "         'oseola': 1,\n",
       "         'weccan': 1,\n",
       "         'libyan': 15,\n",
       "         'spain': 33,\n",
       "         'lisbon': 6,\n",
       "         'geneva\\n          ': 2,\n",
       "         'ussr\\n          ': 1,\n",
       "         'sbund': 1,\n",
       "         'month7': 1,\n",
       "         'fisl': 1,\n",
       "         'il\\n                    ': 1,\n",
       "         'bl y': 1,\n",
       "         'happens~': 1,\n",
       "         'diego': 1,\n",
       "         'united\\n                  ': 1,\n",
       "         'soxnebody\\n         ': 1,\n",
       "         'constantinople': 1,\n",
       "         'afternonn': 1,\n",
       "         'nh': 1,\n",
       "         'swiss': 5,\n",
       "         'kabrid': 1,\n",
       "         'bl\\n             ': 1,\n",
       "         'united jewish': 1,\n",
       "         'detroit': 12,\n",
       "         'fulji': 1,\n",
       "         'jidda': 5,\n",
       "         'whttther      ': 1,\n",
       "         'washington                              ': 2,\n",
       "         'clawson': 1,\n",
       "         \"wt'iting\": 1,\n",
       "         'korea': 38,\n",
       "         'sakaff\\n        ': 1,\n",
       "         'irvkot - sp': 1,\n",
       "         'british\\n       ': 1,\n",
       "         'venezuela': 20,\n",
       "         'zelcon': 1,\n",
       "         'mexican': 58,\n",
       "         'bethesda': 2,\n",
       "         'pro-arab': 4,\n",
       "         'dominican republic': 1,\n",
       "         'up7': 3,\n",
       "         'christian': 22,\n",
       "         'aswan': 18,\n",
       "         'san clexnente': 1,\n",
       "         'peple': 1,\n",
       "         'nimeri': 1,\n",
       "         'nierri': 1,\n",
       "         'tanzania': 5,\n",
       "         'gaza': 3,\n",
       "         'virginia': 11,\n",
       "         'nort vietnamese': 1,\n",
       "         'ther germans': 1,\n",
       "         'herman--\\n             ': 1,\n",
       "         'loutfi': 1,\n",
       "         'north korean': 4,\n",
       "         'hak\\n             ': 2,\n",
       "         'jerusalemg': 1,\n",
       "         'hixn                                                      ': 1,\n",
       "         'sisco': 3,\n",
       "         'kreber': 1,\n",
       "         'tel aviv\\n            ': 1,\n",
       "         'sanuary': 1,\n",
       "         'richmond': 1,\n",
       "         'roanoke': 1,\n",
       "         'usia': 1,\n",
       "         'tny state': 1,\n",
       "         'xnuscle': 1,\n",
       "         'tel     ': 1,\n",
       "         'aviv': 1,\n",
       "         'ehrlichman': 1,\n",
       "         'ehrlichman\\n          ': 1,\n",
       "         'louisiana': 2,\n",
       "         'recdrd': 1,\n",
       "         'scali\\n             ': 1,\n",
       "         'calle\\n             ': 1,\n",
       "         'cuba7': 1,\n",
       "         'go2': 1,\n",
       "         'turkish': 216,\n",
       "         'new yerk': 1,\n",
       "         'panama': 42,\n",
       "         'litile': 1,\n",
       "         'israef': 1,\n",
       "         'presideit': 1,\n",
       "         'las vegas': 2,\n",
       "         'saidmayhew': 1,\n",
       "         '--it': 7,\n",
       "         'iir': 1,\n",
       "         'atherton': 3,\n",
       "         'diego garcia': 2,\n",
       "         'havana': 4,\n",
       "         'is--\\n        ': 1,\n",
       "         'gromyko\\n': 1,\n",
       "         'staten': 1,\n",
       "         'united\\n          ': 1,\n",
       "         'the soviet union\\n          ': 1,\n",
       "         'pentagan': 1,\n",
       "         'st.': 2,\n",
       "         'belgian': 6,\n",
       "         'united\\n': 1,\n",
       "         'yo\\n      ': 1,\n",
       "         'ar': 4,\n",
       "         'instanoe': 1,\n",
       "         'uttons': 1,\n",
       "         'san\\nclemente': 1,\n",
       "         \"saudi arabia'\": 1,\n",
       "         'the                 arabs': 1,\n",
       "         'grendon': 1,\n",
       "         'saltzburg': 2,\n",
       "         'dayan\\n        ': 1,\n",
       "         'fl': 3,\n",
       "         'marxist': 3,\n",
       "         'abudabi': 1,\n",
       "         'unef': 3,\n",
       "         'coopera': 1,\n",
       "         'mal latin american': 1,\n",
       "         'spanish': 13,\n",
       "         'mirv': 4,\n",
       "         'buti': 1,\n",
       "         \"ai'de\": 1,\n",
       "         'benelux': 2,\n",
       "         'henry': 2,\n",
       "         'reallydo': 1,\n",
       "         'verv': 1,\n",
       "         'panama         ': 2,\n",
       "         'shirz': 1,\n",
       "         'shhedule      ': 1,\n",
       "         'panamanian': 6,\n",
       "         'da': 2,\n",
       "         'the\\nunion': 1,\n",
       "         'gromyko              ': 1,\n",
       "         'yulse e': 1,\n",
       "         'daxnxx': 1,\n",
       "         'euaopeans': 1,\n",
       "         'atlantic\\n         ': 2,\n",
       "         'panama\\n\\n                   ': 1,\n",
       "         'ks\\n          ': 1,\n",
       "         'connecticut': 6,\n",
       "         'cover;chatter': 1,\n",
       "         'org': 1,\n",
       "         'md': 1,\n",
       "         'mccloy': 4,\n",
       "         'ml': 1,\n",
       "         'mn': 5,\n",
       "         'zahedi': 2,\n",
       "         'zurich': 7,\n",
       "         'iceland': 2,\n",
       "         'radford': 1,\n",
       "         'euroieans': 1,\n",
       "         'gromyko     ': 1,\n",
       "         'frenchmen\\n                  ': 1,\n",
       "         'pro-french': 1,\n",
       "         'scowcroft     ': 1,\n",
       "         'angli': 1,\n",
       "         'compronn': 1,\n",
       "         'departmfnt': 1,\n",
       "         'k|--': 1,\n",
       "         'conterence': 1,\n",
       "         \"f'nance\": 1,\n",
       "         'tripoli': 6,\n",
       "         \"s'ay\": 1,\n",
       "         'releasedinfull': 3,\n",
       "         'palm beach': 3,\n",
       "         'the u. s.\\n\\n ': 1,\n",
       "         'oklahoma': 3,\n",
       "         'al,     ': 1,\n",
       "         'east germany': 5,\n",
       "         \"east germany'\": 1,\n",
       "         'west germans': 2,\n",
       "         'm.                                 ': 1,\n",
       "         'xnind': 2,\n",
       "         'semitic': 1,\n",
       "         'huntsville': 1,\n",
       "         'little rock': 1,\n",
       "         'ed     ': 1,\n",
       "         'vietnam7': 1,\n",
       "         \"j'ewd\": 1,\n",
       "         'disengageznent': 1,\n",
       "         'damscus': 1,\n",
       "         'sometizze': 1,\n",
       "         'kfull': 1,\n",
       "         'reguest': 1,\n",
       "         'm23': 1,\n",
       "         'telecon                                                           ': 1,\n",
       "         'riyadh': 5,\n",
       "         'latin': 9,\n",
       "         'santiago': 4,\n",
       "         'ialat': 1,\n",
       "         'jamaican': 4,\n",
       "         'jamaica': 6,\n",
       "         'east german': 3,\n",
       "         'iranian': 24,\n",
       "         'baghdad': 2,\n",
       "         'a.': 1,\n",
       "         'west africa': 1,\n",
       "         'con                              ': 1,\n",
       "         'schweid\\n             ': 1,\n",
       "         'correctiong': 1,\n",
       "         'san diego': 2,\n",
       "         'shutls': 1,\n",
       "         'telecon                                 ': 1,\n",
       "         'asound': 1,\n",
       "         'brazilian': 19,\n",
       "         'manldnd': 1,\n",
       "         'arizona': 3,\n",
       "         'terriiic': 1,\n",
       "         'quito': 6,\n",
       "         'soureewas\\n                 ': 1,\n",
       "         'atian': 1,\n",
       "         'ambrican': 1,\n",
       "         'mormon': 1,\n",
       "         'mfm': 2,\n",
       "         'mfmv': 1,\n",
       "         'theegyptians': 1,\n",
       "         'slovak': 1,\n",
       "         'south yemen': 1,\n",
       "         'netherlands': 2,\n",
       "         'gerxnans': 2,\n",
       "         'redmond\\n        ': 1,\n",
       "         'foriegn': 2,\n",
       "         'anglo-american': 2,\n",
       "         'jiull': 1,\n",
       "         'abu dhabi': 3,\n",
       "         'qatar': 1,\n",
       "         'muscat': 1,\n",
       "         'oman': 7,\n",
       "         'silly--': 1,\n",
       "         'uruguay': 1,\n",
       "         'paraguay': 1,\n",
       "         'bolivia': 3,\n",
       "         'guyana': 7,\n",
       "         'tunisian': 2,\n",
       "         'scotty': 1,\n",
       "         'ny\\n\\n         ': 1,\n",
       "         'pahmy': 1,\n",
       "         'vienna': 28,\n",
       "         'the united\\n                                          ..\\nstates': 1,\n",
       "         'rd': 1,\n",
       "         'p2etty': 1,\n",
       "         'italy znomentarily': 1,\n",
       "         'sovidobo': 2,\n",
       "         'cauing': 2,\n",
       "         'houston': 13,\n",
       "         'bight': 3,\n",
       "         'qk': 7,\n",
       "         'inpart\\n             ': 1,\n",
       "         'west european': 3,\n",
       "         'leonchev': 1,\n",
       "         'siznply': 2,\n",
       "         'laquer': 1,\n",
       "         'north vietnamese': 11,\n",
       "         'idnsyosais': 1,\n",
       "         '~77': 1,\n",
       "         'the soviet\\nunion': 3,\n",
       "         'elcon': 10,\n",
       "         'uh»huh': 1,\n",
       "         'memphis': 3,\n",
       "         'hak': 2,\n",
       "         'stockholm': 5,\n",
       "         'palestine         ': 1,\n",
       "         'jan\\n                                                                     ': 1,\n",
       "         'pres2dent': 1,\n",
       "         'norway': 3,\n",
       "         'argentine': 19,\n",
       "         'dunlap': 1,\n",
       "         \"you'7\\n\\n              \": 1,\n",
       "         'indochina': 17,\n",
       "         'bahamas': 1,\n",
       "         'prine': 1,\n",
       "         'j/. tokyo': 1,\n",
       "         'belmont': 1,\n",
       "         'mass': 1,\n",
       "         'develoikag': 1,\n",
       "         'dartmouth': 1,\n",
       "         'ecuador': 8,\n",
       "         'fa': 1,\n",
       "         'nd ed     ': 1,\n",
       "         'slsco': 1,\n",
       "         'sti4ke': 1,\n",
       "         'authoritayian\\n       ': 1,\n",
       "         'atlanta': 14,\n",
       "         'gpll\\n       ': 1,\n",
       "         'i.t.': 1,\n",
       "         'differenct': 1,\n",
       "         'propositionis': 1,\n",
       "         'fgyptians': 1,\n",
       "         'panam': 1,\n",
       "         'teleccn': 7,\n",
       "         'bild': 1,\n",
       "         'berlinabout': 1,\n",
       "         'betwehtbe soviet union\\n      ': 1,\n",
       "         'toni@ht': 1,\n",
       "         'odessa': 4,\n",
       "         'eople': 1,\n",
       "         'zavidovo': 1,\n",
       "         'scb russians': 1,\n",
       "         'the syrians': 1,\n",
       "         'golan heights\\n         ': 1,\n",
       "         'reyiewauthority': 1,\n",
       "         'robertlfunseth': 2,\n",
       "         'tordanians': 1,\n",
       "         'ck': 1,\n",
       "         'teleccn\\n             ': 4,\n",
       "         'pro-israeli': 3,\n",
       "         'hardmind': 1,\n",
       "         'hange': 1,\n",
       "         'the latin': 1,\n",
       "         'lodal': 2,\n",
       "         'zny': 2,\n",
       "         'anti-soviet': 4,\n",
       "         'boutiflika': 1,\n",
       "         'north       ': 1,\n",
       "         'north      ': 1,\n",
       "         'helsinki': 35,\n",
       "         'telecon\\n                                                                     ': 2,\n",
       "         'latin\\n           americans': 1,\n",
       "         'me2dco': 1,\n",
       "         'peruvian': 2,\n",
       "         'cleveland': 1,\n",
       "         'lebonese': 1,\n",
       "         'conunitxnents': 1,\n",
       "         'c-130s': 3,\n",
       "         'gg:20 p.': 1,\n",
       "         'p;50': 1,\n",
       "         \"t'ar\": 1,\n",
       "         'latin americans': 4,\n",
       "         'blk.': 1,\n",
       "         'argentinian': 1,\n",
       "         'ohio': 7,\n",
       "         'michigan': 11,\n",
       "         'the latin american': 1,\n",
       "         'anti-israeli': 4,\n",
       "         'telecon                                                      ': 3,\n",
       "         'thase': 1,\n",
       "         'be--\\n             ': 1,\n",
       "         'feb2xisrythat': 1,\n",
       "         'cadtdo': 1,\n",
       "         \"you'know\": 2,\n",
       "         \"l'ebanonese\": 1,\n",
       "         \"ai'ternoon\": 1,\n",
       "         'venezuelan': 12,\n",
       "         'christi': 1,\n",
       "         'xx': 1,\n",
       "         'portugal': 31,\n",
       "         'saudi arabians': 1,\n",
       "         'sa\\n\\n\\n\\n\\n               k': 1,\n",
       "         'the w. h.': 2,\n",
       "         'kc': 1,\n",
       "         '~yiewa': 1,\n",
       "         'sri lanka': 1,\n",
       "         'usa': 1,\n",
       "         \"contribution'to\": 1,\n",
       "         'teleccn\\n': 1,\n",
       "         'speci5cally': 1,\n",
       "         'ke     ': 1,\n",
       "         'detente\\n          ': 1,\n",
       "         'south vietnam': 11,\n",
       "         'soviets jewish': 1,\n",
       "         'soviet jewish': 1,\n",
       "         'iim': 2,\n",
       "         'statf.': 2,\n",
       "         'zenry': 1,\n",
       "         'nz': 1,\n",
       "         'lienry': 1,\n",
       "         'ã~': 1,\n",
       "         'pu8': 1,\n",
       "         'proposat2': 1,\n",
       "         'ds\\n\\n': 1,\n",
       "         'whatv\\n                             ': 1,\n",
       "         \"you'rexxsssznrconcerned         \": 1,\n",
       "         'arthur': 2,\n",
       "         'gromyko\\n                 ': 1,\n",
       "         'iim\\n\\n          ': 1,\n",
       "         'javits\\n                                                         ': 1,\n",
       "         'jackson      ': 1,\n",
       "         'iinitfd': 1,\n",
       "         'rabass': 2,\n",
       "         'lvionday': 1,\n",
       "         'teleccn                                                 ': 1,\n",
       "         'roy ash': 1,\n",
       "         'schedulk': 1,\n",
       "         'somali': 3,\n",
       "         'ethiopia': 2,\n",
       "         'ethiopian': 1,\n",
       "         'jackson\\n                 ': 1,\n",
       "         'dabenyour(sp?': 1,\n",
       "         \"i'ndians\": 1,\n",
       "         'egypt                 ': 1,\n",
       "         'masada': 1,\n",
       "         'znade': 1,\n",
       "         'quenitra': 1,\n",
       "         '~enitra': 1,\n",
       "         'wierd syrian': 1,\n",
       "         'czxuubcambodians': 1,\n",
       "         'south vietnamese': 10,\n",
       "         'rig?k': 1,\n",
       "         \"j'oe\": 2,\n",
       "         'north african': 1,\n",
       "         'russai': 1,\n",
       "         'casablanca': 1,\n",
       "         'soine\\n                 ': 1,\n",
       "         \"have'in\": 1,\n",
       "         'statexnxnade': 1,\n",
       "         '~~w': 1,\n",
       "         'thew': 1,\n",
       "         'miru': 1,\n",
       "         'zsgsofz substance': 1,\n",
       "         'i974\\n             ': 1,\n",
       "         'fzoui': 1,\n",
       "         \"rg'that\": 1,\n",
       "         'b6kx': 1,\n",
       "         'up--\\n             ': 1,\n",
       "         'crimea': 6,\n",
       "         'zmnanadhans conservatives': 1,\n",
       "         'new haven': 1,\n",
       "         'marion': 3,\n",
       "         'teleccn                                                      ': 1,\n",
       "         'infull\\n                 ': 1,\n",
       "         '3ayssx': 1,\n",
       "         'illinois': 7,\n",
       "         'veryxpxxk': 1,\n",
       "         'telecgn\\n               ': 1,\n",
       "         'xsa0ax': 1,\n",
       "         'zznt': 1,\n",
       "         'jakarta': 3,\n",
       "         'kiev': 5,\n",
       "         'gainst\\n             ': 1,\n",
       "         'minsk': 3,\n",
       "         'the the soviet union': 1,\n",
       "         'los': 4,\n",
       "         'c-~~--u': 1,\n",
       "         '~tm': 1,\n",
       "         \"e'bl\": 1,\n",
       "         'agra': 1,\n",
       "         'hla 40,': 1,\n",
       "         'wa': 4,\n",
       "         'wy.': 1,\n",
       "         'yszdstfdc': 1,\n",
       "         'casa': 1,\n",
       "         'corning': 1,\n",
       "         'organismg': 1,\n",
       "         ...})"
      ]
     },
     "execution_count": 41,
     "metadata": {},
     "output_type": "execute_result"
    }
   ],
   "source": [
    "kissCountryCounts = countryCounts(kissinger)\n",
    "kissCountryCounts"
   ]
  },
  {
   "cell_type": "code",
   "execution_count": 42,
   "metadata": {},
   "outputs": [
    {
     "data": {
      "text/plain": [
       "[('israeli', 1170),\n",
       " ('israel', 810),\n",
       " ('soviet', 746),\n",
       " ('egyptian', 728),\n",
       " ('russian', 480),\n",
       " ('syrian', 444),\n",
       " ('arab', 443),\n",
       " ('american', 435),\n",
       " ('british', 404),\n",
       " ('moscow', 390),\n",
       " ('greek', 373),\n",
       " ('turk', 318),\n",
       " ('french', 304),\n",
       " ('egypt', 286),\n",
       " ('washington', 273),\n",
       " ('new york', 263),\n",
       " ('jewish', 237),\n",
       " ('turkish', 216),\n",
       " ('european', 211),\n",
       " ('cyprus', 196),\n",
       " ('london', 194),\n",
       " ('u', 191),\n",
       " ('geneva', 187),\n",
       " ('syria', 181),\n",
       " ('chinese', 174),\n",
       " ('cairo', 173),\n",
       " ('turkey', 171),\n",
       " ('china', 159),\n",
       " ('the soviet union', 142),\n",
       " ('the united states', 140),\n",
       " ('dept', 128),\n",
       " ('german', 125),\n",
       " ('saudi', 120),\n",
       " ('paris', 108),\n",
       " ('vietnam', 107),\n",
       " ('d.', 97),\n",
       " ('african', 97),\n",
       " ('athens', 95),\n",
       " ('angola', 94),\n",
       " ('lebanon', 93),\n",
       " ('telecon', 92),\n",
       " ('greece', 92),\n",
       " ('jew', 81),\n",
       " ('united states', 78),\n",
       " ('japan', 75),\n",
       " ('chile', 68),\n",
       " ('jerusalem', 67),\n",
       " ('mexico', 64),\n",
       " ('ankara', 61),\n",
       " ('democrat', 60)]"
      ]
     },
     "execution_count": 42,
     "metadata": {},
     "output_type": "execute_result"
    }
   ],
   "source": [
    "kissCountryCounts.most_common(50)"
   ]
  },
  {
   "cell_type": "code",
   "execution_count": 43,
   "metadata": {},
   "outputs": [],
   "source": [
    "kissCountryCountsDict = dict(kissCountryCounts)"
   ]
  },
  {
   "cell_type": "code",
   "execution_count": 49,
   "metadata": {},
   "outputs": [],
   "source": [
    "kissCountryCountsClean = {\n",
    "    'U.S.': kissCountryCountsDict['u'] + kissCountryCountsDict['the united states'] + kissCountryCountsDict['american'],\n",
    "    'U.K.': kissCountryCountsDict['uk'] + kissCountryCountsDict['british'] + kissCountryCountsDict['britain'],\n",
    "    'Israel': kissCountryCountsDict['israel'] + kissCountryCountsDict['israeli'],\n",
    "    'USSR': kissCountryCountsDict['soviet'] + kissCountryCountsDict['ussr'] + kissCountryCountsDict['russia'] + kissCountryCountsDict['russian'] + kissCountryCountsDict['the soviet union'],\n",
    "    'Syria': kissCountryCountsDict['syrian'] + kissCountryCountsDict['syria'],\n",
    "    'Egypt': kissCountryCountsDict['egypt'] + kissCountryCountsDict['egyptian'],\n",
    "    'France': kissCountryCountsDict['french'] + kissCountryCountsDict['france'],\n",
    "    'China': kissCountryCountsDict['chinese'] + kissCountryCountsDict['china'],\n",
    "    'Algeria': kissCountryCountsDict['algeria'] + kissCountryCountsDict['algerian'],\n",
    "    'Lebanon': kissCountryCountsDict['lebanon'] + kissCountryCountsDict['lebanese'],\n",
    "    'Greece': kissCountryCountsDict['greece'] + kissCountryCountsDict['greek'],\n",
    "    'Angola': kissCountryCountsDict['angola'] + kissCountryCountsDict['angolan'],\n",
    "    'Pakistan': kissCountryCountsDict['pakistan'],\n",
    "    'Palestine': kissCountryCountsDict['palestine'] + kissCountryCountsDict['palestinian'],\n",
    "    'Cuba': kissCountryCountsDict['cuba'] + kissCountryCountsDict['cuban'],\n",
    "    'Korea': kissCountryCountsDict['korean'] + kissCountryCountsDict['north korea'] + kissCountryCountsDict['north korean'] + kissCountryCountsDict['south korean'],\n",
    "    'Turkey': kissCountryCountsDict['turk'] + kissCountryCountsDict['turkey'] + kissCountryCountsDict['turkish'],\n",
    "    'Cyprus': kissCountryCountsDict['cypriot'] + kissCountryCountsDict['cyprus'],\n",
    "    'Portugal': kissCountryCountsDict['portugal'] + kissCountryCountsDict['portuguese'],\n",
    "    'Japan': kissCountryCountsDict['japan'] + kissCountryCountsDict['japanese'],\n",
    "    'Libya': kissCountryCountsDict['libya'] + kissCountryCountsDict['libyan'],\n",
    "    'Cambodia': kissCountryCountsDict['cambodia'] + kissCountryCountsDict['cambodian']\n",
    "}\n"
   ]
  },
  {
   "cell_type": "code",
   "execution_count": 50,
   "metadata": {},
   "outputs": [],
   "source": [
    "kissCountryCountsSorted = sorted(kissCountryCountsClean.items(), key=lambda x: x[1], reverse=True)"
   ]
  },
  {
   "cell_type": "code",
   "execution_count": 51,
   "metadata": {},
   "outputs": [
    {
     "data": {
      "text/plain": [
       "[('Israel', 1980),\n",
       " ('USSR', 1429),\n",
       " ('Egypt', 1014),\n",
       " ('U.S.', 766),\n",
       " ('Turkey', 705),\n",
       " ('Syria', 625),\n",
       " ('Greece', 465),\n",
       " ('U.K.', 439),\n",
       " ('France', 357),\n",
       " ('China', 333)]"
      ]
     },
     "execution_count": 51,
     "metadata": {},
     "output_type": "execute_result"
    }
   ],
   "source": [
    "kissCountryCountsSorted[:10]"
   ]
  },
  {
   "cell_type": "code",
   "execution_count": 52,
   "metadata": {},
   "outputs": [
    {
     "data": {
      "text/plain": [
       "2082306"
      ]
     },
     "execution_count": 52,
     "metadata": {},
     "output_type": "execute_result"
    }
   ],
   "source": [
    "kissLengths = [len(nltk.word_tokenize(kiss)) for kiss in kissinger]\n",
    "totalKissLen = sum(kissLengths)\n",
    "totalKissLen"
   ]
  },
  {
   "cell_type": "code",
   "execution_count": 53,
   "metadata": {},
   "outputs": [
    {
     "data": {
      "text/plain": [
       "[('Israel', 0.0009508688924682539),\n",
       " ('USSR', 0.0006862584077460277),\n",
       " ('Egypt', 0.0004869601297791967),\n",
       " ('U.S.', 0.00036786139981347603),\n",
       " ('Turkey', 0.00033856695413642373),\n",
       " ('Syria', 0.00030014800898619127),\n",
       " ('Greece', 0.00022331011868572631),\n",
       " ('U.K.', 0.00021082396151190074),\n",
       " ('France', 0.00017144454273291247),\n",
       " ('China', 0.00015991885918784272)]"
      ]
     },
     "execution_count": 53,
     "metadata": {},
     "output_type": "execute_result"
    }
   ],
   "source": [
    "kissCountryFreq = []\n",
    "for (country, count) in kissCountryCountsSorted:\n",
    "    kissCountryFreq.append((country, count/totalKissLen))\n",
    "kissCountryFreq[:10]"
   ]
  },
  {
   "cell_type": "code",
   "execution_count": null,
   "metadata": {},
   "outputs": [],
   "source": []
  }
 ],
 "metadata": {
  "kernelspec": {
   "display_name": "Python 3",
   "language": "python",
   "name": "python3"
  },
  "language_info": {
   "codemirror_mode": {
    "name": "ipython",
    "version": 3
   },
   "file_extension": ".py",
   "mimetype": "text/x-python",
   "name": "python",
   "nbconvert_exporter": "python",
   "pygments_lexer": "ipython3",
   "version": "3.8.3"
  }
 },
 "nbformat": 4,
 "nbformat_minor": 4
}
