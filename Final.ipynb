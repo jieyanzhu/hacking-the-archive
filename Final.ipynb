{
 "cells": [
  {
   "cell_type": "code",
   "execution_count": 41,
   "metadata": {},
   "outputs": [],
   "source": [
    "import pandas as pd\n",
    "import nltk\n",
    "import requests\n",
    "from sklearn.feature_extraction.text import TfidfVectorizer\n",
    "from sklearn.decomposition import PCA\n",
    "from nltk.corpus import stopwords\n",
    "from matplotlib import pyplot as plt"
   ]
  },
  {
   "cell_type": "code",
   "execution_count": 3,
   "metadata": {},
   "outputs": [],
   "source": [
    "stopWords = stopwords.words('english')"
   ]
  },
  {
   "cell_type": "code",
   "execution_count": 4,
   "metadata": {},
   "outputs": [],
   "source": [
    "cablesDF = pd.read_csv('CFPF-JIEYAN - data.csv')"
   ]
  },
  {
   "cell_type": "code",
   "execution_count": 5,
   "metadata": {},
   "outputs": [],
   "source": [
    "cablesText = cablesDF['BODY']"
   ]
  },
  {
   "cell_type": "code",
   "execution_count": 6,
   "metadata": {},
   "outputs": [
    {
     "data": {
      "text/plain": [
       "0      mrn: 1973peking001397  segment number: 000001 ...\n",
       "1      mrn: 1973nato b006022  segment number: 000001 ...\n",
       "2      mrn: 1973nato b006060  segment number: 000001 ...\n",
       "3      mrn: 1973nato b006064  segment number: 000001 ...\n",
       "4      1.  need to get as detailed description of veh...\n",
       "                             ...                        \n",
       "624    1.  i saw king hussein january 10 on another i...\n",
       "625    1. i saw richard, grennan, and mansfield at no...\n",
       "626    2) begin text\\ndear dr. kissinger,\\nthank you ...\n",
       "627    1. i arrived cape town 1330 today and with amb...\n",
       "628    reference:  london 630\\n1.  tony duff has give...\n",
       "Name: BODY, Length: 629, dtype: object"
      ]
     },
     "execution_count": 6,
     "metadata": {},
     "output_type": "execute_result"
    }
   ],
   "source": [
    "for (i, text) in enumerate(cablesText):\n",
    "    try:\n",
    "        cablesText[i] = text.lower()\n",
    "    except:\n",
    "        cablesText[i] = 'n/a'\n",
    "cablesText"
   ]
  },
  {
   "cell_type": "code",
   "execution_count": 7,
   "metadata": {},
   "outputs": [
    {
     "name": "stdout",
     "output_type": "stream",
     "text": [
      "37\n",
      "52\n",
      "72\n",
      "94\n",
      "105\n",
      "113\n",
      "121\n",
      "123\n",
      "124\n",
      "132\n",
      "133\n",
      "141\n",
      "153\n",
      "154\n",
      "157\n",
      "160\n",
      "163\n",
      "184\n",
      "187\n",
      "199\n",
      "206\n",
      "283\n",
      "323\n",
      "350\n",
      "361\n",
      "450\n",
      "509\n",
      "533\n",
      "534\n",
      "538\n",
      "552\n",
      "577\n",
      "620\n",
      "621\n",
      "622\n"
     ]
    }
   ],
   "source": [
    "for (i, text) in enumerate(cablesText):\n",
    "    if cablesText[i] == 'n/a':\n",
    "        print(i)"
   ]
  },
  {
   "cell_type": "code",
   "execution_count": 8,
   "metadata": {},
   "outputs": [
    {
     "data": {
      "text/plain": [
       "str"
      ]
     },
     "execution_count": 8,
     "metadata": {},
     "output_type": "execute_result"
    }
   ],
   "source": [
    "type(cablesText[620])"
   ]
  },
  {
   "cell_type": "code",
   "execution_count": 9,
   "metadata": {},
   "outputs": [
    {
     "data": {
      "text/plain": [
       "629"
      ]
     },
     "execution_count": 9,
     "metadata": {},
     "output_type": "execute_result"
    }
   ],
   "source": [
    "len(cablesText)"
   ]
  },
  {
   "cell_type": "code",
   "execution_count": 10,
   "metadata": {},
   "outputs": [
    {
     "data": {
      "text/plain": [
       "'reference:  london 630\\\\n1.  tony duff has given us the new british paper as\\\\nfinally approved by ministers and pointed out changes\\\\nfrom the first draft transmitted in reftel.\\\\n2.  the title, to which the foreign office attaches\\\\ngreat importance, has been changed to read, \"suggestions\\\\nfor possible structure of transitional government:  note\\\\nby chairman of the conference.\"\\\\n3.  change para two, sentence four to read:  \"but also\\\\nfor a participation by representatives of the european\\\\nminority sufficient to ensure that their interests were\\\\ntaken into account.\"\\\\n4.  change para three, sentence two to read:  \"they\\\\nproceed on the basis that where solutions can be found\\\\nusing purely rhodesian elements, that should be done.\"\\\\n5.  change para five, sub-para one, sentence one to read:\\\\n\"the transitional government would be headed by an\\\\ninterim commissioner who would be appointed by the britis\\\\ngovernment, after due consultations.\"\\\\n6.  change last word in para five, sub-para three,\\\\nsentence one to \"minority\" vice \"community.\"\\\\n7.  change beginning of sentence two in para five, sub-\\\\npara nine to read:  \"his powers in the council of\\\\nministers in relation to these subjects would enable\\\\nhim to ensure, on the one hand,....\"\\\\n8.  change para five, sub-para eleven, last sentence to\\\\nread:  \"the council of ministers would have collective\\\\nresponsibility for governing rhodesia.\"\\\\n9.  change para five, sub-para twelve, last sentence to\\\\nread:  \"the interim commissioner would preside over\\\\nmeetings of the national security council and would be in\\\\na position to exercise a casting vote.\"\\\\n10.  change para five, sub-para thirteen, sentence three\\\\nto read:  \"the national security council, with the\\\\nconcurrence of the interim commissioner, would have the\\\\npower to appoint and remove the holders of certain senior\\\\noffices in the armed forces and the police.\"\\\\narmstrong\\\\n'"
      ]
     },
     "execution_count": 10,
     "metadata": {},
     "output_type": "execute_result"
    }
   ],
   "source": [
    "cables = [cablesText[i] for i in range(len(cablesText))]\n",
    "cables[-1]"
   ]
  },
  {
   "cell_type": "code",
   "execution_count": 11,
   "metadata": {},
   "outputs": [
    {
     "name": "stdout",
     "output_type": "stream",
     "text": [
      "Request returned 200 : 'OK'\n",
      "1251\n",
      "{'authored': '1977-01-04T00:00:00+00:00',\n",
      " 'body': ' The President’s Daily Brief January 4, 1977 “Fp Sore Exempt from '\n",
      "         'general declassificatan schedule of EO. 11652 exemption category '\n",
      "         'SB()),(2443) declassified only on approval of the Director of '\n",
      "         'Central Intelligence FOR THE PRESIDENT ONLY January 4, 1977 Table of '\n",
      "         'Contents Rhodesia: Rhodesian nationalist leaders and presidents of '\n",
      "         'the front-line African countries reportedly are considering ways to '\n",
      "         'improve the military performance of the Rhodesian guer-~ rillas. '\n",
      "         '(Page i) Note: India (Page 2) FOR THE PRESIDENT ONLY Vw i Atrican '\n",
      "         'Republic’ i D Bangui ita taho x Yaounde st Es fal Gunga g —_ i& '\n",
      "         'Libreville Congo J Gabon Vretona} Zaire “Dek ag \\\\Bujuphbura~” Ly '\n",
      "         '‘undi fe Brazzaville Sar ie an ar soul Angol a Ae Lf X Namibia '\n",
      "         '{South-West Africa) Oar es Salaam Lusake7” gaat ev indhagk Walvis '\n",
      "         'Bay (s At) Gaborone, y Pretoria ee rt pinto nal BA Dn Indian fo '\n",
      "         '—gouth Ocean Atlantie (toad Stino 4 Africa Ocean LV 0 500 MILES 500 '\n",
      "         'KILOMETERS FOR THE PRESIDENT ONLY RHODESIA: Rhoaestan nattonalist '\n",
      "         'leaders and presidents of the front-ttine African eountrtes '\n",
      "         'reportedly are considering ways to improve the military performance '\n",
      "         'of the Rhodestan guerrillas. into Mozambique/ aoe The recent '\n",
      "         'Rhodesian army raids “have convinced 20X1 most of the nationalists '\n",
      "         'and their allies that the guerrillas are much weaker than had been '\n",
      "         'assumed. The latest raids, which began two months ago, apparently '\n",
      "         'have disrupted guerrilla plans for increased military activity. '\n",
      "         'Action in eastern Rhodesia by guerrillas based in Mozambique has '\n",
      "         'been generally at a low level since the raids began. The '\n",
      "         'nationalists and the frontline presidents are said to be discussing '\n",
      "         'the reintegration of the main guerrilla force, representing the '\n",
      "         'Zimbabwe African National Union based in Mozambique, with the much '\n",
      "         \"smaller force of the Zambia-based Zimbabwe African People's Union. \"\n",
      "         'These two guerrilla groups were merged briefly in Mozambique early '\n",
      "         'last year, but the joint force disbanded after the two factions '\n",
      "         'engaged in armed clashes. --continued FOR THE PRESIDENT ONLY FOR THE '\n",
      "         'PRESIDENT ONLY NOTE The Indian government arrested scores of '\n",
      "         'Communtsts December 31 as Increased Communist criticism of a means '\n",
      "         \"of quashing a Gandhi's ruling Congress Party is nattonal protest \"\n",
      "         'planned another aspect of growing tension by the Indian Communtst '\n",
      "         'between the government and the Party against Prime Indian Communist '\n",
      "         \"Party and its imMinister Gandhi's do- patience with restrictions \"\n",
      "         'imposed mestic poltetes. under the state of emergency. 2 FOR THE '\n",
      "         'PRESIDENT ONLY Top Secret ',\n",
      " 'classification': 'top secret',\n",
      " 'doc_id': '0006466939',\n",
      " 'title': \"THE PRESIDENT'S DAILY BRIEF 4 JANUARY 1977\"}\n"
     ]
    }
   ],
   "source": [
    "url = ('http://api.foiarchive.org/docs?'\n",
    "       'corpus=eq.pdb&authored=gte.1973-01-01&'\n",
    "       'select=doc_id,authored,classification,title,body')\n",
    "response = requests.get(url)  # Make a GET request to the URL\n",
    "\n",
    "# Print status code (and associated text)\n",
    "print(f\"Request returned {response.status_code} : '{response.reason}'\")\n",
    "\n",
    "# Print data returned (parsing as JSON)\n",
    "payload = response.json()  # Parse `response.text` into JSON\n",
    "print(len(payload))\n",
    "\n",
    "import pprint\n",
    "pp = pprint.PrettyPrinter(indent=1)\n",
    "pp.pprint(payload[-1])"
   ]
  },
  {
   "cell_type": "code",
   "execution_count": 12,
   "metadata": {},
   "outputs": [
    {
     "data": {
      "text/plain": [
       "list"
      ]
     },
     "execution_count": 12,
     "metadata": {},
     "output_type": "execute_result"
    }
   ],
   "source": [
    "type(payload)"
   ]
  },
  {
   "cell_type": "code",
   "execution_count": 13,
   "metadata": {},
   "outputs": [],
   "source": [
    "pdbs = [payload[i]['body'] for i in range(len(payload))]"
   ]
  },
  {
   "cell_type": "code",
   "execution_count": 28,
   "metadata": {},
   "outputs": [
    {
     "name": "stdout",
     "output_type": "stream",
     "text": [
      "Request returned 200 : 'OK'\n",
      "0\n",
      "[]\n"
     ]
    }
   ],
   "source": [
    "url2 = ('http://api.foiarchive.org/docs?'\n",
    "       'corpus=eq.kissinger&authored=gte.1973-01-01&authored=lt.1977-02-01&'\n",
    "       'select=doc_id,authored,classification,title,body')\n",
    "url3 = ('http://api.foiarchive.org/docs?'\n",
    "       'doc_id=eq.0000C195&'\n",
    "       'select=corpus,authored,classification,title,body') # need to resolve this issue\n",
    "response = requests.get(url3)  # Make a GET request to the URL\n",
    "\n",
    "# Print status code (and associated text)\n",
    "print(f\"Request returned {response.status_code} : '{response.reason}'\")\n",
    "\n",
    "# Print data returned (parsing as JSON)\n",
    "payload = response.json()  # Parse `response.text` into JSON\n",
    "print(len(payload))\n",
    "\n",
    "import pprint\n",
    "pp = pprint.PrettyPrinter(indent=1)\n",
    "pp.pprint(payload)"
   ]
  },
  {
   "cell_type": "code",
   "execution_count": 14,
   "metadata": {},
   "outputs": [],
   "source": [
    "allTexts = cables + pdbs"
   ]
  },
  {
   "cell_type": "code",
   "execution_count": 15,
   "metadata": {},
   "outputs": [
    {
     "data": {
      "text/plain": [
       "(1880, 400)"
      ]
     },
     "execution_count": 15,
     "metadata": {},
     "output_type": "execute_result"
    }
   ],
   "source": [
    "tfidfVectorizer = TfidfVectorizer(max_features=400, stop_words=stopWords)\n",
    "textMatrix = tfidfVectorizer.fit_transform(allTexts)\n",
    "denseTextMatrix = textMatrix.todense()\n",
    "denseTextMatrix.shape"
   ]
  },
  {
   "cell_type": "code",
   "execution_count": 16,
   "metadata": {},
   "outputs": [
    {
     "data": {
      "text/plain": [
       "(1880, 2)"
      ]
     },
     "execution_count": 16,
     "metadata": {},
     "output_type": "execute_result"
    }
   ],
   "source": [
    "pca = PCA(n_components=2)\n",
    "textPoints = pca.fit_transform(denseTextMatrix)\n",
    "textPoints.shape"
   ]
  },
  {
   "cell_type": "code",
   "execution_count": 104,
   "metadata": {},
   "outputs": [],
   "source": [
    "colors = {'cables':'r', 'pdb':'b'}\n",
    "labels = ['cables']*len(cables) + ['pdb']*len(pdbs)"
   ]
  },
  {
   "cell_type": "code",
   "execution_count": 105,
   "metadata": {},
   "outputs": [],
   "source": [
    "textDF = pd.DataFrame({'C1':textPoints[:,0], 'C2':textPoints[:,1], 'labels':labels})"
   ]
  },
  {
   "cell_type": "code",
   "execution_count": 107,
   "metadata": {},
   "outputs": [
    {
     "data": {
      "image/png": "[encoded data removed]",
      "text/plain": [
       "<Figure size 432x288 with 1 Axes>"
      ]
     },
     "metadata": {
      "needs_background": "light"
     },
     "output_type": "display_data"
    }
   ],
   "source": [
    "_, ax = plt.subplots()\n",
    "for key,group in textDF.groupby('labels'):\n",
    "    group.plot.scatter(ax=ax, x='C1', y='C2', label=key, color = colors[key]);\n",
    "plt.show()"
   ]
  },
  {
   "cell_type": "code",
   "execution_count": null,
   "metadata": {},
   "outputs": [],
   "source": []
  }
 ],
 "metadata": {
  "kernelspec": {
   "display_name": "Python 3",
   "language": "python",
   "name": "python3"
  },
  "language_info": {
   "codemirror_mode": {
    "name": "ipython",
    "version": 3
   },
   "file_extension": ".py",
   "mimetype": "text/x-python",
   "name": "python",
   "nbconvert_exporter": "python",
   "pygments_lexer": "ipython3",
   "version": "3.8.3"
  }
 },
 "nbformat": 4,
 "nbformat_minor": 4
}
